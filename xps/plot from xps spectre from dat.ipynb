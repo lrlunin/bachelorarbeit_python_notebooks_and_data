{
 "cells": [
  {
   "cell_type": "code",
   "execution_count": 1,
   "id": "b4dd956f",
   "metadata": {},
   "outputs": [],
   "source": [
    "from matplotlib import rc\n",
    "%matplotlib notebook\n",
    "from lmfit import Model\n",
    "\n",
    "\n",
    "\n",
    "rc('text', usetex=False)\n",
    "rc(\"font\", family=\"serif\")\n",
    "import numpy as np #notwendige Pakete laden\n",
    "import matplotlib.pyplot as plt\n",
    "import matplotlib\n",
    "import math\n",
    "import matplotlib.ticker as ticker\n",
    "from matplotlib.ticker import (AutoMinorLocator, MultipleLocator, NullLocator)\n",
    "import pandas as pd\n",
    "from PIL import Image\n"
   ]
  },
  {
   "cell_type": "code",
   "execution_count": 2,
   "id": "36f90af4",
   "metadata": {},
   "outputs": [],
   "source": [
    "matplotlib.use(\"pgf\")\n",
    "plt.rcParams.update({\n",
    "    \"font.family\": \"serif\",\n",
    "    \"text.usetex\": True,\n",
    "    \"pgf.rcfonts\": False,\n",
    "    \"figure.figsize\": (6.48, 2.75),\n",
    "    \"pgf.texsystem\": \"pdflatex\",\n",
    "    \"font.size\": 13,\n",
    "    \"text.latex.preamble\" :  r\"\\usepackage{amsmath} \\usepackage[utf8]{inputenc} \\usepackage[T1]{fontenc}\\usepackage[output-decimal-marker={,}]{siunitx} \\sisetup{per-mode=fraction, separate-uncertainty = true, locale = DE} \\usepackage[acronym, toc, section=section, nonumberlist, nopostdot]{glossaries-extra}\",\n",
    "    \"pgf.preamble\": r\"\\usepackage{amsmath} \\usepackage[utf8]{inputenc} \\usepackage[T1]{fontenc}\\usepackage[output-decimal-marker={,}]{siunitx} \\sisetup{per-mode=fraction, separate-uncertainty = true, locale = DE} \\usepackage[acronym, toc, section=section, nonumberlist, nopostdot]{glossaries-extra}\",\n",
    "    #r\"\\usepackage[acronym, toc, section=section, nonumberlist, nopostdot]{glossaries-extra}\"])\n",
    "})"
   ]
  },
  {
   "cell_type": "code",
   "execution_count": 3,
   "id": "e28beb7b",
   "metadata": {},
   "outputs": [],
   "source": [
    "import matplotlib.ticker\n",
    "\n",
    "class OOMFormatter(matplotlib.ticker.ScalarFormatter):\n",
    "    def __init__(self, order=0, fformat=\"%1.1f\", offset=True, mathText=True):\n",
    "        self.oom = order\n",
    "        self.fformat = fformat\n",
    "        matplotlib.ticker.ScalarFormatter.__init__(self,useOffset=offset,useMathText=mathText)\n",
    "    def _set_order_of_magnitude(self):\n",
    "        self.orderOfMagnitude = self.oom\n",
    "    def _set_format(self):\n",
    "        self.format = self.fformat\n",
    "        if self._useMathText:\n",
    "            self.format = '$%s$' % ('\\\\mathdefault{%s}' % self.format)\n",
    "    "
   ]
  },
  {
   "cell_type": "code",
   "execution_count": 10,
   "id": "6184488f",
   "metadata": {},
   "outputs": [],
   "source": [
    "ev_unique, flux_unique = np.loadtxt('unique_values.csv', unpack=True)"
   ]
  },
  {
   "cell_type": "code",
   "execution_count": 11,
   "id": "aa67c044",
   "metadata": {},
   "outputs": [],
   "source": [
    "args = np.argwhere(ev_unique > 600)\n",
    "ev_unique = ev_unique[args]\n",
    "flux_unique = flux_unique[args]"
   ]
  },
  {
   "cell_type": "code",
   "execution_count": 15,
   "id": "fb23ff40",
   "metadata": {
    "scrolled": false
   },
   "outputs": [
    {
     "data": {
      "text/plain": [
       "Text(1199.79, 86000000000.0, 'Gd M5')"
      ]
     },
     "execution_count": 15,
     "metadata": {},
     "output_type": "execute_result"
    },
    {
     "data": {
      "image/png": "[encoded data removed]",
      "text/plain": [
       "<Figure size 432x288 with 1 Axes>"
      ]
     },
     "metadata": {
      "needs_background": "light"
     },
     "output_type": "display_data"
    }
   ],
   "source": [
    "%matplotlib inline \n",
    "#grob\n",
    "fig, axs = plt.figure(), plt.gca()\n",
    "#fig.suptitle('MOENCH detector characteristics')\n",
    "axes = axs\n",
    "#axes.set_xlim(left=800, right=1200)\n",
    "#axes.set_title('Soft X-Ray Range')\n",
    "axes.set_xlim((650,1400))\n",
    "axes.set_ylim(bottom=2.5e10, top=9.2e10)\n",
    "\n",
    "axes.set_xlabel(r'Photonenergie $h\\nu$ in eV')\n",
    "#axes.set_xscale('log')\n",
    "axes.set_ylabel(r\"Photonenfluss in Photonen s$^{-1}$sr$^{-1}$ pro \\SI{0,1}{\\percent} BB\")\n",
    "axes.grid(which='major')\n",
    "axes.grid(which='minor', color='#999999', linestyle='-', alpha=0.2)\n",
    "#axes.xaxis.set_major_formatter(OOMFormatter(order = 10, fformat = \"%1.0f\"))\n",
    "axes.yaxis.set_major_formatter(OOMFormatter(order = 10, fformat = \"%1.0f\"))\n",
    "axes.xaxis.set_major_locator(MultipleLocator(100))\n",
    "axes.xaxis.set_minor_locator(AutoMinorLocator(5))\n",
    "axes.yaxis.set_major_locator(MultipleLocator(1e10))\n",
    "axes.yaxis.set_minor_locator(AutoMinorLocator(5))\n",
    "axes.errorbar(ev_unique, flux_unique, fmt=\"-o\", ms=2)\n",
    "axes.axvline(x=706.97, linestyle=\"-\", color='black', linewidth=1, alpha=1)\n",
    "axes.text(x=706.97+15, y=8.6e10, s=r'Fe L3')\n",
    "axes.axvline(x=1184.79, linestyle=\"-\",color='black', linewidth=1, alpha=1)\n",
    "axes.text(x=1184.79+15, y=8.6e10, s=r'Gd M5')"
   ]
  },
  {
   "cell_type": "code",
   "execution_count": 13,
   "id": "538ee372",
   "metadata": {},
   "outputs": [],
   "source": [
    "fig.savefig('xps_spectrum_700_1400.pgf', bbox_inches='tight', pad_inches=0.0)"
   ]
  },
  {
   "cell_type": "code",
   "execution_count": null,
   "id": "924e0e2f",
   "metadata": {},
   "outputs": [],
   "source": []
  },
  {
   "cell_type": "code",
   "execution_count": null,
   "id": "a41042ad",
   "metadata": {},
   "outputs": [],
   "source": []
  }
 ],
 "metadata": {
  "kernelspec": {
   "display_name": "Python 3 (ipykernel)",
   "language": "python",
   "name": "python3"
  },
  "language_info": {
   "codemirror_mode": {
    "name": "ipython",
    "version": 3
   },
   "file_extension": ".py",
   "mimetype": "text/x-python",
   "name": "python",
   "nbconvert_exporter": "python",
   "pygments_lexer": "ipython3",
   "version": "3.8.12"
  },
  "latex_envs": {
   "LaTeX_envs_menu_present": true,
   "autoclose": true,
   "autocomplete": true,
   "bibliofile": "biblio.bib",
   "cite_by": "apalike",
   "current_citInitial": 1,
   "eqLabelWithNumbers": true,
   "eqNumInitial": 1,
   "hotkeys": {
    "equation": "Ctrl-E",
    "itemize": "Ctrl-I"
   },
   "labels_anchors": false,
   "latex_user_defs": false,
   "report_style_numbering": false,
   "user_envs_cfg": false
  },
  "toc": {
   "base_numbering": 1,
   "nav_menu": {},
   "number_sections": true,
   "sideBar": true,
   "skip_h1_title": false,
   "title_cell": "Table of Contents",
   "title_sidebar": "Contents",
   "toc_cell": false,
   "toc_position": {},
   "toc_section_display": true,
   "toc_window_display": false
  },
  "varInspector": {
   "cols": {
    "lenName": 16,
    "lenType": 16,
    "lenVar": 40
   },
   "kernels_config": {
    "python": {
     "delete_cmd_postfix": "",
     "delete_cmd_prefix": "del ",
     "library": "var_list.py",
     "varRefreshCmd": "print(var_dic_list())"
    },
    "r": {
     "delete_cmd_postfix": ") ",
     "delete_cmd_prefix": "rm(",
     "library": "var_list.r",
     "varRefreshCmd": "cat(var_dic_list()) "
    }
   },
   "types_to_exclude": [
    "module",
    "function",
    "builtin_function_or_method",
    "instance",
    "_Feature"
   ],
   "window_display": false
  }
 },
 "nbformat": 4,
 "nbformat_minor": 5
}
