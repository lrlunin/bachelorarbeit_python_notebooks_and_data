{
 "cells": [
  {
   "cell_type": "code",
   "execution_count": 1,
   "id": "29b75154",
   "metadata": {},
   "outputs": [],
   "source": [
    "from matplotlib import rc\n",
    "from lmfit import Model\n",
    "\n",
    "\n",
    "\n",
    "rc('text', usetex=False)\n",
    "rc(\"font\", family=\"serif\")\n",
    "import numpy as np #notwendige Pakete laden\n",
    "import matplotlib.pyplot as plt\n",
    "import matplotlib\n",
    "import math\n",
    "import matplotlib.ticker as ticker\n",
    "from matplotlib.ticker import (AutoMinorLocator, MultipleLocator, NullLocator)\n",
    "import pandas as pd\n",
    "from PIL import Image\n",
    "from  matplotlib.patches import Rectangle\n",
    "from skimage.io import imread"
   ]
  },
  {
   "cell_type": "code",
   "execution_count": 2,
   "id": "b8b78e88",
   "metadata": {},
   "outputs": [],
   "source": [
    "matplotlib.use(\"pgf\")\n",
    "plt.rcParams.update({\n",
    "    \"font.family\": \"serif\",\n",
    "    \"text.usetex\": True,\n",
    "    \"pgf.rcfonts\": False,\n",
    "    \"figure.figsize\": (6.48/4, 2.75/4),\n",
    "    \"pgf.texsystem\": \"pdflatex\",\n",
    "    \"font.size\": 13,\n",
    "    \"text.latex.preamble\" :  r\"\\usepackage{amsmath} \\usepackage[utf8]{inputenc} \\usepackage[T1]{fontenc}\\usepackage[output-decimal-marker={,}]{siunitx} \\sisetup{per-mode=fraction, separate-uncertainty = true, locale = DE} \\usepackage[acronym, toc, section=section, nonumberlist, nopostdot]{glossaries-extra}\",\n",
    "    \"pgf.preamble\": r\"\\usepackage{amsmath} \\usepackage[utf8]{inputenc} \\usepackage[T1]{fontenc}\\usepackage[output-decimal-marker={,}]{siunitx} \\sisetup{per-mode=fraction, separate-uncertainty = true, locale = DE} \\usepackage[acronym, toc, section=section, nonumberlist, nopostdot]{glossaries-extra}\",\n",
    "    #r\"\\usepackage[acronym, toc, section=section, nonumberlist, nopostdot]{glossaries-extra}\"])\n",
    "})"
   ]
  },
  {
   "cell_type": "code",
   "execution_count": 3,
   "id": "0531a1c1",
   "metadata": {},
   "outputs": [],
   "source": [
    "from scipy.fft import fft2, fftshift, rfft2\n",
    "from skimage import img_as_float\n",
    "from skimage.color import rgb2gray\n",
    "from skimage.data import astronaut\n",
    "from skimage.filters import window\n",
    "from matplotlib_scalebar.scalebar import ScaleBar\n",
    "from matplotlib.patches import FancyArrowPatch, ConnectionPatch\n",
    "\n"
   ]
  },
  {
   "cell_type": "code",
   "execution_count": 4,
   "id": "cff8e066",
   "metadata": {},
   "outputs": [],
   "source": [
    "mfm_61 = imread('20220114_LL_(61_glas)/ds211221_amplitude_blackwhite.png')\n",
    "mfm_61_crop = mfm_61[14:269, 9:264][:,:,0]\n",
    "mfm_61_crop_half = mfm_61_crop[:128,:128]\n",
    "\n",
    "mfm_116 = imread('20220202_LL_(116 SiN)/ds220126_R1_membrane_amplitude_blackwhite.png')\n",
    "mfm_116_crop = mfm_116[14:269, 9:264][:,:,0]\n"
   ]
  },
  {
   "cell_type": "code",
   "execution_count": null,
   "id": "e771bbff",
   "metadata": {},
   "outputs": [],
   "source": [
    "print(mfm_61_crop.shape)"
   ]
  },
  {
   "cell_type": "code",
   "execution_count": null,
   "id": "b5d8c0ac",
   "metadata": {
    "scrolled": false
   },
   "outputs": [],
   "source": [
    "%matplotlib inline\n",
    "fig, axes = plt.subplots(2,2)\n",
    "\n",
    "scalebar_61 = ScaleBar(2./51., 'um', fixed_value=2) # 1 pixel = 0.2 meter\n",
    "scalebar_116 = ScaleBar(1./51., 'um', fixed_value=1) # 1 pixel = 0.2 meter\n",
    "for ax in axes.flatten():\n",
    "    ax.axis('off')\n",
    "norm_61 = mfm_61_crop/np.max(mfm_61_crop)\n",
    "norm_116 = mfm_116_crop/np.max(mfm_116_crop)\n",
    "axes[0][0].imshow(norm_61,cmap='gray')\n",
    "axes[0][1].imshow(norm_116,cmap='gray')\n",
    "\n",
    "axes[0][0].add_artist(scalebar_61)\n",
    "axes[0][1].add_artist(scalebar_116)\n",
    "\n",
    "scalebar_61_ft = ScaleBar(2*np.pi*2./51., '1/um', dimension='si-length-reciprocal', fixed_value=1) # 1 pixel = 0.2 meter\n",
    "scalebar_116_ft = ScaleBar(2*np.pi*1./51., '1/um', dimension='si-length-reciprocal', fixed_value=1) # 1 pixel = 0.2 meter\n",
    "\n",
    "ft_mfm_61 = np.abs(fftshift(fft2(norm_61)))[128-25:128+25,128-25:128+25]\n",
    "ft_mfm_116 = np.abs(fftshift(fft2(norm_116)))[128-50:128+50,128-50:128+50]\n",
    "axes[1][0].imshow(np.log(ft_mfm_61),cmap='gray')\n",
    "axes[1][1].imshow(np.log(ft_mfm_116),cmap='gray')\n",
    "axes[1][0].add_artist(scalebar_61_ft)\n",
    "axes[1][1].add_artist(scalebar_116_ft)"
   ]
  },
  {
   "cell_type": "code",
   "execution_count": 16,
   "id": "4b5f2b7b",
   "metadata": {},
   "outputs": [
    {
     "name": "stdout",
     "output_type": "stream",
     "text": [
      "[1.62 1.62]\n"
     ]
    },
    {
     "data": {
      "image/png": "[encoded data removed]",
      "text/plain": [
       "<Figure size 116.64x116.64 with 1 Axes>"
      ]
     },
     "metadata": {
      "needs_background": "light"
     },
     "output_type": "display_data"
    }
   ],
   "source": [
    "%matplotlib inline\n",
    "fig = plt.figure()\n",
    "fig.set_size_inches((6.48/4, 6.48/4))\n",
    "print(fig.get_size_inches())\n",
    "axes = fig.gca()\n",
    "scalebar_61 = ScaleBar(2./51., 'um', fixed_value=2) # 1 pixel = 0.2 meter\n",
    "scalebar_116 = ScaleBar(1./51., 'um', fixed_value=1) # 1 pixel = 0.2 meter\n",
    "\n",
    "norm_61 = mfm_61_crop/np.max(mfm_61_crop)\n",
    "norm_116 = mfm_116_crop/np.max(mfm_116_crop)\n",
    "axes.imshow(norm_61,cmap='gray')\n",
    "axes.axis('off')\n",
    "axes.add_artist(scalebar_61)\n",
    "fig.savefig('61_real.pgf', bbox_inches='tight', pad_inches=0.0)"
   ]
  },
  {
   "cell_type": "code",
   "execution_count": 17,
   "id": "c2b9dd5b",
   "metadata": {},
   "outputs": [
    {
     "name": "stdout",
     "output_type": "stream",
     "text": [
      "[1.62 1.62]\n"
     ]
    },
    {
     "data": {
      "image/png": "[encoded data removed]",
      "text/plain": [
       "<Figure size 116.64x116.64 with 1 Axes>"
      ]
     },
     "metadata": {
      "needs_background": "light"
     },
     "output_type": "display_data"
    }
   ],
   "source": [
    "%matplotlib inline\n",
    "fig = plt.figure()\n",
    "fig.set_size_inches((6.48/4, 6.48/4))\n",
    "print(fig.get_size_inches())\n",
    "axes = fig.gca()\n",
    "scalebar_61 = ScaleBar(2./51., 'um', fixed_value=2) # 1 pixel = 0.2 meter\n",
    "scalebar_116 = ScaleBar(1./51., 'um', fixed_value=1) # 1 pixel = 0.2 meter\n",
    "\n",
    "norm_61 = mfm_61_crop/np.max(mfm_61_crop)\n",
    "norm_116 = mfm_116_crop/np.max(mfm_116_crop)\n",
    "axes.imshow(norm_116,cmap='gray')\n",
    "axes.axis('off')\n",
    "axes.add_artist(scalebar_116)\n",
    "plt.savefig('116_real.pgf', bbox_inches='tight', pad_inches=0.0)"
   ]
  },
  {
   "cell_type": "code",
   "execution_count": 20,
   "id": "e4709ad8",
   "metadata": {},
   "outputs": [
    {
     "name": "stdout",
     "output_type": "stream",
     "text": [
      "[1.62 1.62]\n"
     ]
    },
    {
     "data": {
      "image/png": "[encoded data removed]",
      "text/plain": [
       "<Figure size 116.64x116.64 with 1 Axes>"
      ]
     },
     "metadata": {
      "needs_background": "light"
     },
     "output_type": "display_data"
    }
   ],
   "source": [
    "%matplotlib inline\n",
    "fig = plt.figure()\n",
    "fig.set_size_inches((6.48/4, 6.48/4))\n",
    "print(fig.get_size_inches())\n",
    "axes = fig.gca()\n",
    "scalebar_61 = ScaleBar(2./51., 'um', fixed_value=2) # 1 pixel = 0.2 meter\n",
    "scalebar_116 = ScaleBar(1./51., 'um', fixed_value=1) # 1 pixel = 0.2 meter\n",
    "\n",
    "norm_61 = mfm_61_crop/np.max(mfm_61_crop)\n",
    "norm_116 = mfm_116_crop/np.max(mfm_116_crop)\n",
    "axes.imshow(norm_61,cmap='gray')\n",
    "axes.axis('off')\n",
    "scalebar_61_ft = ScaleBar(2*np.pi*2./51., '1/um', dimension='si-length-reciprocal', fixed_value=1) # 1 pixel = 0.2 meter\n",
    "scalebar_116_ft = ScaleBar(2*np.pi*1./51., '1/um', dimension='si-length-reciprocal', fixed_value=1) # 1 pixel = 0.2 meter\n",
    "\n",
    "ft_mfm_61 = np.abs(fftshift(fft2(norm_61)))[128-25:128+25,128-25:128+25]\n",
    "ft_mfm_116 = np.abs(fftshift(fft2(norm_116)))[128-50:128+50,128-50:128+50]\n",
    "axes.imshow(np.log(ft_mfm_61),cmap='gray')\n",
    "axes.add_artist(scalebar_61_ft)\n",
    "fig.savefig('61_ft.pgf', bbox_inches='tight', pad_inches=0.0)"
   ]
  },
  {
   "cell_type": "code",
   "execution_count": 21,
   "id": "a42d5ba6",
   "metadata": {},
   "outputs": [
    {
     "name": "stdout",
     "output_type": "stream",
     "text": [
      "[1.62 1.62]\n"
     ]
    },
    {
     "data": {
      "image/png": "[encoded data removed]",
      "text/plain": [
       "<Figure size 116.64x116.64 with 1 Axes>"
      ]
     },
     "metadata": {
      "needs_background": "light"
     },
     "output_type": "display_data"
    }
   ],
   "source": [
    "%matplotlib inline\n",
    "fig = plt.figure()\n",
    "fig.set_size_inches((6.48/4, 6.48/4))\n",
    "print(fig.get_size_inches())\n",
    "axes = fig.gca()\n",
    "scalebar_61 = ScaleBar(2./51., 'um', fixed_value=2) # 1 pixel = 0.2 meter\n",
    "scalebar_116 = ScaleBar(1./51., 'um', fixed_value=1) # 1 pixel = 0.2 meter\n",
    "\n",
    "norm_61 = mfm_61_crop/np.max(mfm_61_crop)\n",
    "norm_116 = mfm_116_crop/np.max(mfm_116_crop)\n",
    "axes.imshow(norm_61,cmap='gray')\n",
    "axes.axis('off')\n",
    "scalebar_61_ft = ScaleBar(2*np.pi*2./51., '1/um', dimension='si-length-reciprocal', fixed_value=1) # 1 pixel = 0.2 meter\n",
    "scalebar_116_ft = ScaleBar(2*np.pi*1./51., '1/um', dimension='si-length-reciprocal', fixed_value=1) # 1 pixel = 0.2 meter\n",
    "\n",
    "ft_mfm_61 = np.abs(fftshift(fft2(norm_61)))[128-25:128+25,128-25:128+25]\n",
    "ft_mfm_116 = np.abs(fftshift(fft2(norm_116)))[128-50:128+50,128-50:128+50]\n",
    "axes.imshow(np.log(ft_mfm_116),cmap='gray')\n",
    "axes.add_artist(scalebar_116_ft)\n",
    "fig.savefig('116_ft.pgf', bbox_inches='tight', pad_inches=0.0)"
   ]
  },
  {
   "cell_type": "code",
   "execution_count": null,
   "id": "a4c3cb4e",
   "metadata": {},
   "outputs": [],
   "source": []
  }
 ],
 "metadata": {
  "kernelspec": {
   "display_name": "Python 3 (ipykernel)",
   "language": "python",
   "name": "python3"
  },
  "language_info": {
   "codemirror_mode": {
    "name": "ipython",
    "version": 3
   },
   "file_extension": ".py",
   "mimetype": "text/x-python",
   "name": "python",
   "nbconvert_exporter": "python",
   "pygments_lexer": "ipython3",
   "version": "3.8.12"
  },
  "latex_envs": {
   "LaTeX_envs_menu_present": true,
   "autoclose": true,
   "autocomplete": true,
   "bibliofile": "biblio.bib",
   "cite_by": "apalike",
   "current_citInitial": 1,
   "eqLabelWithNumbers": true,
   "eqNumInitial": 1,
   "hotkeys": {
    "equation": "Ctrl-E",
    "itemize": "Ctrl-I"
   },
   "labels_anchors": false,
   "latex_user_defs": false,
   "report_style_numbering": false,
   "user_envs_cfg": false
  },
  "toc": {
   "base_numbering": 1,
   "nav_menu": {},
   "number_sections": true,
   "sideBar": true,
   "skip_h1_title": false,
   "title_cell": "Table of Contents",
   "title_sidebar": "Contents",
   "toc_cell": false,
   "toc_position": {},
   "toc_section_display": true,
   "toc_window_display": false
  },
  "varInspector": {
   "cols": {
    "lenName": 16,
    "lenType": 16,
    "lenVar": 40
   },
   "kernels_config": {
    "python": {
     "delete_cmd_postfix": "",
     "delete_cmd_prefix": "del ",
     "library": "var_list.py",
     "varRefreshCmd": "print(var_dic_list())"
    },
    "r": {
     "delete_cmd_postfix": ") ",
     "delete_cmd_prefix": "rm(",
     "library": "var_list.r",
     "varRefreshCmd": "cat(var_dic_list()) "
    }
   },
   "types_to_exclude": [
    "module",
    "function",
    "builtin_function_or_method",
    "instance",
    "_Feature"
   ],
   "window_display": false
  }
 },
 "nbformat": 4,
 "nbformat_minor": 5
}
