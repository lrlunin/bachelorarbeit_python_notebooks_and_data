{
 "cells": [
  {
   "cell_type": "code",
   "execution_count": 20,
   "id": "b4dd956f",
   "metadata": {},
   "outputs": [],
   "source": [
    "from matplotlib import rc\n",
    "%matplotlib notebook\n",
    "from lmfit import Model\n",
    "import numpy as np #notwendige Pakete laden\n",
    "import matplotlib.pyplot as plt\n",
    "import matplotlib\n",
    "import math\n",
    "import matplotlib.ticker as ticker\n",
    "from matplotlib.ticker import (AutoMinorLocator, MultipleLocator, NullLocator)\n",
    "import pandas as pd\n",
    "from PIL import Image\n"
   ]
  },
  {
   "cell_type": "code",
   "execution_count": 21,
   "id": "36f90af4",
   "metadata": {},
   "outputs": [],
   "source": [
    "matplotlib.use(\"pgf\")\n",
    "plt.rcParams.update({\n",
    "    \"font.family\": \"serif\",\n",
    "    \"text.usetex\": True,\n",
    "    \"pgf.rcfonts\": False,\n",
    "    \"figure.figsize\": (6.48, 2.75),\n",
    "    \"pgf.texsystem\": \"pdflatex\",\n",
    "    \"font.size\": 13,\n",
    "    \"text.latex.preamble\" :  r\"\\usepackage{amsmath} \\usepackage[utf8]{inputenc} \\usepackage[T1]{fontenc} \\usepackage[output-decimal-marker={,},print-unity-mantissa=false]{siunitx} \\sisetup{per-mode=fraction, separate-uncertainty = true, locale = DE} \\usepackage[acronym, toc, section=section, nonumberlist, nopostdot]{glossaries-extra} \\DeclareSIUnit\\adu{\\text{ADU}} \\DeclareSIUnit\\px{\\text{px}} \\DeclareSIUnit\\photons{\\text{Pho\\-to\\-nen}} \\DeclareSIUnit\\photon{\\text{Pho\\-ton}}\",\n",
    "    \"pgf.preamble\": r\"\\usepackage{amsmath} \\usepackage[utf8]{inputenc} \\usepackage[T1]{fontenc} \\usepackage[output-decimal-marker={,},print-unity-mantissa=false]{siunitx} \\sisetup{per-mode=fraction, separate-uncertainty = true, locale = DE} \\usepackage[acronym, toc, section=section, nonumberlist, nopostdot]{glossaries-extra} \\DeclareSIUnit\\adu{\\text{ADU}} \\DeclareSIUnit\\px{\\text{px}} \\DeclareSIUnit\\photons{\\text{Pho\\-to\\-nen}} \\DeclareSIUnit\\photon{\\text{Pho\\-ton}}\",\n",
    "    #r\"\\usepackage[acronym, toc, section=section, nonumberlist, nopostdot]{glossaries-extra}\"])\n",
    "})"
   ]
  },
  {
   "cell_type": "code",
   "execution_count": 22,
   "id": "e28beb7b",
   "metadata": {},
   "outputs": [],
   "source": [
    "import matplotlib.ticker\n",
    "\n",
    "class OOMFormatter(matplotlib.ticker.ScalarFormatter):\n",
    "    def __init__(self, order=0, fformat=\"%1.1f\", offset=True, mathText=True):\n",
    "        self.oom = order\n",
    "        self.fformat = fformat\n",
    "        matplotlib.ticker.ScalarFormatter.__init__(self,useOffset=offset,useMathText=mathText)\n",
    "    def _set_order_of_magnitude(self):\n",
    "        self.orderOfMagnitude = self.oom\n",
    "    def _set_format(self):\n",
    "        self.format = self.fformat\n",
    "        if self._useMathText:\n",
    "            self.format = '$%s$' % ('\\\\mathdefault{%s}' % self.format)\n",
    "    "
   ]
  },
  {
   "cell_type": "code",
   "execution_count": 23,
   "id": "58bab9e9",
   "metadata": {},
   "outputs": [],
   "source": [
    "from matplotlib.ticker import (AutoMinorLocator, MultipleLocator, NullLocator, LogLocator,FormatStrFormatter, FuncFormatter)"
   ]
  },
  {
   "cell_type": "code",
   "execution_count": 24,
   "id": "9aafabd7",
   "metadata": {},
   "outputs": [],
   "source": [
    "capture_nr, exposure_sec, sigma, mean =  np.loadtxt(\"dark_auswertung_02032022/20220302_dark_data.csv\", delimiter=\",\", unpack=True)\n",
    "\n",
    "\n"
   ]
  },
  {
   "cell_type": "code",
   "execution_count": 6,
   "id": "fb23ff40",
   "metadata": {
    "scrolled": false
   },
   "outputs": [
    {
     "data": {
      "text/plain": [
       "<ErrorbarContainer object of 3 artists>"
      ]
     },
     "execution_count": 6,
     "metadata": {},
     "output_type": "execute_result"
    },
    {
     "data": {
      "image/png": "[encoded data removed]",
      "text/plain": [
       "<Figure size 432x288 with 1 Axes>"
      ]
     },
     "metadata": {
      "needs_background": "light"
     },
     "output_type": "display_data"
    }
   ],
   "source": [
    "%matplotlib inline\n",
    "#grob\n",
    "fig, axs = plt.figure(), plt.gca()\n",
    "#fig.suptitle('MOENCH detector characteristics')\n",
    "plt.subplots_adjust(hspace =0.6)\n",
    "axes = axs\n",
    "axes.set_xlim((0.9e-7,1.1e-3))\n",
    "axes.set_ylim((18, 48))\n",
    "#axes.set_title('Soft X-Ray Range')\n",
    "axes.set_xlabel(r'Belichtungszeit $\\tau$ in s')\n",
    "axes.set_xscale('log')\n",
    "axes.set_ylabel(r\"Standardabweichung $\\sigma$ in ADU\")\n",
    "axes.grid(which='major')\n",
    "axes.grid(which='minor', color='#999999', linestyle='-', alpha=0.2)\n",
    "#axes.xaxis.set_major_formatter(OOMFormatter(order = 0, fformat = \"%1.0f\"))\n",
    "#axes.yaxis.set_major_formatter(OOMFormatter(order = 0, fformat = \"%1.0f\"))\n",
    "# axes.xaxis.set_major_locator(MultipleLocator(200))\n",
    "# axes.xaxis.set_minor_locator(AutoMinorLocator(5))\n",
    "axes.yaxis.set_minor_locator(AutoMinorLocator(5))\n",
    "# axes.yaxis.set_major_locator(MultipleLocator(50))\n",
    "axes.errorbar(exposure_sec, sigma, fmt=\"o\", ms=2)"
   ]
  },
  {
   "cell_type": "code",
   "execution_count": 7,
   "id": "538ee372",
   "metadata": {},
   "outputs": [],
   "source": [
    "fig.savefig('noise.pgf', bbox_inches='tight', pad_inches=0.0)"
   ]
  },
  {
   "cell_type": "code",
   "execution_count": 8,
   "id": "b7ac876e",
   "metadata": {},
   "outputs": [
    {
     "data": {
      "text/plain": [
       "<ErrorbarContainer object of 3 artists>"
      ]
     },
     "execution_count": 8,
     "metadata": {},
     "output_type": "execute_result"
    },
    {
     "data": {
      "image/png": "[encoded data removed]",
      "text/plain": [
       "<Figure size 432x288 with 1 Axes>"
      ]
     },
     "metadata": {
      "needs_background": "light"
     },
     "output_type": "display_data"
    }
   ],
   "source": [
    "%matplotlib inline\n",
    "#grob\n",
    "fig, axs = plt.figure(), plt.gca()\n",
    "#fig.suptitle('MOENCH detector characteristics')\n",
    "plt.subplots_adjust(hspace =0.6)\n",
    "axes = axs\n",
    "axes.set_xlim((0.9e-7,1.1e-3))\n",
    "#axes.set_title('Soft X-Ray Range')\n",
    "axes.set_xlabel(r'exposure / s')\n",
    "axes.set_xscale('log')\n",
    "axes.set_ylabel(r\"standard deviation $\\sigma$ / ADU\")\n",
    "axes.grid(which='major')\n",
    "axes.grid(which='minor', color='#999999', linestyle='-', alpha=0.2)\n",
    "#axes.xaxis.set_major_formatter(OOMFormatter(order = 0, fformat = \"%1.0f\"))\n",
    "#axes.yaxis.set_major_formatter(OOMFormatter(order = 0, fformat = \"%1.0f\"))\n",
    "# axes.xaxis.set_major_locator(MultipleLocator(200))\n",
    "# axes.xaxis.set_minor_locator(AutoMinorLocator(5))\n",
    "# axes.yaxis.set_minor_locator(AutoMinorLocator(5))\n",
    "# axes.yaxis.set_major_locator(MultipleLocator(50))\n",
    "axes.errorbar(exposure_sec, sigma, fmt=\"o\", ms=2)"
   ]
  },
  {
   "cell_type": "code",
   "execution_count": null,
   "id": "924e0e2f",
   "metadata": {},
   "outputs": [],
   "source": [
    "fig.savefig('noise_moench_engl.png', bbox_inches='tight', pad_inches=0.1, dpi=300)"
   ]
  },
  {
   "cell_type": "code",
   "execution_count": 9,
   "id": "a41042ad",
   "metadata": {},
   "outputs": [
    {
     "data": {
      "text/plain": [
       "Text(0, 0.5, 'Standardabweichung $\\\\sigma$ in e$^-$')"
      ]
     },
     "execution_count": 9,
     "metadata": {},
     "output_type": "execute_result"
    },
    {
     "data": {
      "image/png": "[encoded data removed]",
      "text/plain": [
       "<Figure size 432x288 with 1 Axes>"
      ]
     },
     "metadata": {
      "needs_background": "light"
     },
     "output_type": "display_data"
    }
   ],
   "source": [
    "%matplotlib inline\n",
    "#grob\n",
    "fig, axs = plt.figure(), plt.gca()\n",
    "#fig.suptitle('MOENCH detector characteristics')\n",
    "plt.subplots_adjust(hspace =0.6)\n",
    "axes = axs\n",
    "axes.set_xlim((0.9e-7,1.1e-3))\n",
    "axes.set_ylim((17, 52))\n",
    "#axes.set_title('Soft X-Ray Range')\n",
    "axes.set_xlabel(r'Belichtungszeit $\\tau$ in s')\n",
    "axes.set_xscale('log')\n",
    "axes.set_ylabel(r\"Standardabweichung $\\sigma$ in ADU\")\n",
    "axes.grid(which='major')\n",
    "axes.grid(which='minor', color='#999999', linestyle='-', alpha=0.2)\n",
    "#axes.xaxis.set_major_formatter(OOMFormatter(order = 0, fformat = \"%1.0f\"))\n",
    "#axes.yaxis.set_major_formatter(OOMFormatter(order = 0, fformat = \"%1.0f\"))\n",
    "# axes.xaxis.set_major_locator(MultipleLocator(200))\n",
    "# axes.xaxis.set_minor_locator(AutoMinorLocator(5))\n",
    "axes.yaxis.set_minor_locator(AutoMinorLocator(5))\n",
    "# axes.yaxis.set_major_locator(MultipleLocator(50))\n",
    "axes.errorbar(exposure_sec, sigma, fmt=\"o\", ms=2)\n",
    "\n",
    "adu_ticks = (20,25,30,35,40,45,50)\n",
    "axes.yaxis.set_ticks(adu_ticks)\n",
    "# axes.yaxis.set_major_locator(MultipleLocator(50))\n",
    "\n",
    "e_ticks = list((np.array(adu_ticks)/0.151)/3.66)\n",
    "\n",
    "\n",
    "def adu2e(x):\n",
    "    return (x/0.151)/3.66\n",
    "\n",
    "\n",
    "def e2adu(x):\n",
    "    return x*366*0.151\n",
    "\n",
    "\n",
    "secax = axes.secondary_yaxis('right', functions=(adu2e, e2adu))\n",
    "#secax.set_ticks(e_ticks)\n",
    "secax.set_ylabel('Standardabweichung $\\sigma$ in e$^-$')\n"
   ]
  },
  {
   "cell_type": "code",
   "execution_count": 10,
   "id": "8b7c8121",
   "metadata": {},
   "outputs": [
    {
     "data": {
      "text/plain": [
       "Text(0, 0.5, 'Standardabweichung $\\\\sigma$ in e$^-$')"
      ]
     },
     "execution_count": 10,
     "metadata": {},
     "output_type": "execute_result"
    },
    {
     "data": {
      "image/png": "[encoded data removed]",
      "text/plain": [
       "<Figure size 432x288 with 1 Axes>"
      ]
     },
     "metadata": {
      "needs_background": "light"
     },
     "output_type": "display_data"
    }
   ],
   "source": [
    "%matplotlib inline\n",
    "#grob\n",
    "fig, axs = plt.figure(), plt.gca()\n",
    "#fig.suptitle('MOENCH detector characteristics')\n",
    "plt.subplots_adjust(hspace =0.6)\n",
    "axes = axs\n",
    "axes.set_xlim((0.9e-7,1.1e-3))\n",
    "axes.set_ylim((17, 52))\n",
    "#axes.set_title('Soft X-Ray Range')\n",
    "axes.set_xlabel(r'Belichtungszeit $\\tau$ in s')\n",
    "axes.set_xscale('log')\n",
    "axes.set_ylabel(r\"Standardabweichung $\\sigma$ in ADU\")\n",
    "axes.grid(which='major')\n",
    "axes.grid(which='minor', color='#999999', linestyle='-', alpha=0.2)\n",
    "#axes.xaxis.set_major_formatter(OOMFormatter(order = 0, fformat = \"%1.0f\"))\n",
    "#axes.yaxis.set_major_formatter(OOMFormatter(order = 0, fformat = \"%1.0f\"))\n",
    "# axes.xaxis.set_major_locator(MultipleLocator(200))\n",
    "# axes.xaxis.set_minor_locator(AutoMinorLocator(5))\n",
    "axes.yaxis.set_minor_locator(AutoMinorLocator(5))\n",
    "# axes.yaxis.set_major_locator(MultipleLocator(50))\n",
    "axes.errorbar(exposure_sec, sigma, fmt=\"o\", ms=2)\n",
    "\n",
    "adu_ticks = (20,25,30,35,40,45,50)\n",
    "axes.yaxis.set_ticks(adu_ticks)\n",
    "# axes.yaxis.set_major_locator(MultipleLocator(50))\n",
    "\n",
    "e_ticks = list((np.array(adu_ticks)/0.151)/3.66)\n",
    "\n",
    "\n",
    "def adu2e(x):\n",
    "    return (x/0.151)/3.66\n",
    "\n",
    "\n",
    "def e2adu(x):\n",
    "    return x*366*0.151\n",
    "\n",
    "\n",
    "secax = axes.secondary_yaxis('right', functions=(adu2e, e2adu))\n",
    "secax.set_ticks(e_ticks)\n",
    "secax.set_ylabel('Standardabweichung $\\sigma$ in e$^-$')\n"
   ]
  },
  {
   "cell_type": "code",
   "execution_count": null,
   "id": "4f961004",
   "metadata": {},
   "outputs": [],
   "source": [
    "def noise_fit(x, a, b):\n",
    "    return np.sqrt(a*np.abs(x))+b\n",
    "\n",
    "def noise_fit_linear(x,a,b,c):\n",
    "    return np.sqrt(a*np.abs(x))+ x*c + b \n",
    "\n",
    "root_model = Model(noise_fit_linear)\n",
    "root_model.set_param_hint('b', vary=True)\n",
    "root_model.set_param_hint('a', vary=True)\n",
    "\n",
    "params = root_model.make_params(a=0.06, b=18.72, c=0.2)\n",
    "print(params)\n",
    "result = root_model.fit(sigma, params, x=(exposure_sec*1e6))\n",
    "print(result.fit_report())"
   ]
  },
  {
   "cell_type": "code",
   "execution_count": null,
   "id": "2b3341e3",
   "metadata": {},
   "outputs": [],
   "source": [
    "%matplotlib notebook\n",
    "#grob\n",
    "fig, axs = plt.figure(), plt.gca()\n",
    "#fig.suptitle('MOENCH detector characteristics')\n",
    "plt.subplots_adjust(hspace =0.6)\n",
    "axes = axs\n",
    "axes.set_xlim((-1e-4,1.1e-3))\n",
    "axes.set_ylim((17, 52))\n",
    "#axes.set_title('Soft X-Ray Range')\n",
    "axes.set_xlabel(r'Belichtungszeit $\\tau$ in s')\n",
    "#axes.set_xscale('log')\n",
    "axes.set_ylabel(r\"Standardabweichung $\\sigma$ in ADU\")\n",
    "axes.grid(which='major')\n",
    "axes.grid(which='minor', color='#999999', linestyle='-', alpha=0.2)\n",
    "#axes.xaxis.set_major_locator(LogLocator(10))\n",
    "\n",
    "axes.xaxis.set_major_formatter(FormatStrFormatter('%.2e'))\n",
    "#axes.yaxis.set_major_formatter(OOMFormatter(order = 0, fformat = \"%1.0f\"))\n",
    "# axes.xaxis.set_minor_locator(AutoMinorLocator(5))\n",
    "axes.yaxis.set_minor_locator(AutoMinorLocator(5))\n",
    "# axes.yaxis.set_major_locator(MultipleLocator(50))\n",
    "axes.errorbar(exposure_sec, sigma, fmt=\"o\", ms=2, label='measured data')\n",
    "\n",
    "axes.plot(exposure_sec, root_model.eval(x=exposure_sec*1e6, a=0.0605, b=18.72, c=0), label='fit from paper $\\sqrt{a\\\\tau} + b$\\nwith a = 0.2e-$^2$/$\\mu s$ = 0.0605 ADU$^{2}$/$\\mu s$\\nand b=34.3e- = 18.865 ADU')\n",
    "adu_ticks = (20,25,30,35,40,45,50)\n",
    "axes.yaxis.set_ticks(adu_ticks)\n",
    "#axes.ticklabel_format(axis='x', style='sci')\n",
    "axes.plot(exposure_sec, result.best_fit, label='fit $\\sqrt{a\\\\tau} + b$\\nwith a = 1.52e-$^2$/$\\mu s$ = 0.459 ADU$^{2}$/$\\mu s$\\nand b=34.3e- = 18.865 ADU (fixed)')\n",
    "fig.legend()\n",
    "\n",
    "\n",
    "# axes.yaxis.set_major_locator(MultipleLocator(50))\n",
    "\n",
    "e_ticks = list((np.array(adu_ticks)/0.151)/3.66)\n",
    "\n",
    "\n",
    "def adu2e(x):\n",
    "    return (x/0.151)/3.66\n",
    "\n",
    "\n",
    "def e2adu(x):\n",
    "    return x*366*0.151\n",
    "\n",
    "secax = axes.secondary_yaxis('right', functions=(adu2e, e2adu))\n",
    "secax.set_ticks(e_ticks)\n",
    "secax.set_ylabel('Standardabweichung $\\sigma$ in e$^-$')\n"
   ]
  },
  {
   "cell_type": "code",
   "execution_count": null,
   "id": "f8f39045",
   "metadata": {},
   "outputs": [],
   "source": [
    "fig.savefig('fits.jpg', dpi=300)"
   ]
  },
  {
   "cell_type": "markdown",
   "id": "3015f03c",
   "metadata": {},
   "source": [
    "Page width: 6.49733inch"
   ]
  },
  {
   "cell_type": "code",
   "execution_count": null,
   "id": "d5aae101",
   "metadata": {},
   "outputs": [],
   "source": [
    "plt.rcParams.update({\n",
    "    \"figure.figsize\": (3.24, 2.75)})"
   ]
  },
  {
   "cell_type": "code",
   "execution_count": 12,
   "id": "13bba9bd",
   "metadata": {},
   "outputs": [
    {
     "data": {
      "image/png": "[encoded data removed]",
      "text/plain": [
       "<Figure size 466.56x270 with 1 Axes>"
      ]
     },
     "metadata": {
      "needs_background": "light"
     },
     "output_type": "display_data"
    }
   ],
   "source": [
    "%matplotlib inline\n",
    "#grob\n",
    "fig, axs = plt.figure(), plt.gca()\n",
    "fig.set_size_inches(6.48, 3.75)\n",
    "#fig.suptitle('MOENCH detector characteristics')\n",
    "axes = axs\n",
    "axes.set_xlim((0.9e-7,1.1e-3))\n",
    "axes.set_ylim((18, 48))\n",
    "#axes.set_title('Soft X-Ray Range')\n",
    "axes.set_xlabel(r'Belichtungszeit $\\tau$ in s')\n",
    "axes.set_xscale('log')\n",
    "axes.set_ylabel(r\"Standardabweichung $\\sigma$ in ADU\")\n",
    "axes.grid(which='major')\n",
    "axes.grid(which='minor', color='#999999', linestyle='-', alpha=0.2)\n",
    "#axes.xaxis.set_major_formatter(OOMFormatter(order = 0, fformat = \"%1.0f\"))\n",
    "#axes.yaxis.set_major_formatter(OOMFormatter(order = 0, fformat = \"%1.0f\"))\n",
    "# axes.xaxis.set_major_locator(MultipleLocator(200))\n",
    "# axes.xaxis.set_minor_locator(AutoMinorLocator(5))\n",
    "axes.yaxis.set_minor_locator(AutoMinorLocator(5))\n",
    "# axes.yaxis.set_major_locator(MultipleLocator(50))\n",
    "axes.errorbar(exposure_sec, sigma, fmt=\"o\", ms=2)\n",
    "fig.savefig('noise_half_width.pgf', bbox_inches='tight', pad_inches=0.0)"
   ]
  },
  {
   "cell_type": "code",
   "execution_count": 11,
   "id": "23a9311e",
   "metadata": {},
   "outputs": [],
   "source": [
    "def adu2e(x):\n",
    "    return (x/0.151)/3.66"
   ]
  },
  {
   "cell_type": "code",
   "execution_count": 12,
   "id": "8c1ee903",
   "metadata": {},
   "outputs": [],
   "source": [
    "def sci_notation(number, sig_fig=2):\n",
    "    ret_string = \"{0:.{1:d}e}\".format(number, sig_fig)\n",
    "    a, b = ret_string.split(\"e\")\n",
    "    # remove leading \"+\" and strip leading zeros\n",
    "    b = int(b)\n",
    "    return a + \" * 10^\" + str(b)"
   ]
  },
  {
   "cell_type": "code",
   "execution_count": 13,
   "id": "dd43fbac",
   "metadata": {},
   "outputs": [],
   "source": [
    "x_fit = np.linspace(0,1e-3, 100)\n",
    "y_fit = np.sqrt(0.2*x_fit*1e6)+34.3"
   ]
  },
  {
   "cell_type": "code",
   "execution_count": 14,
   "id": "987d6226",
   "metadata": {},
   "outputs": [
    {
     "data": {
      "image/png": "[encoded data removed]",
      "text/plain": [
       "<Figure size 466.56x198 with 1 Axes>"
      ]
     },
     "metadata": {
      "needs_background": "light"
     },
     "output_type": "display_data"
    }
   ],
   "source": [
    "%matplotlib inline\n",
    "#grob\n",
    "sigma_e = adu2e(sigma)\n",
    "fig, axs = plt.figure(), plt.gca()\n",
    "#fig.suptitle('MOENCH detector characteristics')\n",
    "fig.set_size_inches(6.48, 2.75)\n",
    "axes = axs\n",
    "axes.xaxis.set_major_formatter(FuncFormatter(lambda x, pos: r\"\\num{%.0e}\" % x if x != 0 else \"0\"))\n",
    "axes.set_xlim(left= -0.4e-4,right=1.05e-3)\n",
    "#axes.set_title('Soft X-Ray Range')\n",
    "axes.set_xlabel(r'Belichtungszeit $\\tau$ in s')\n",
    "#axes.set_xscale('log')\n",
    "axes.set_ylabel(r\"Standardabweichung $\\sigma$ in e$^-$\")\n",
    "axes.grid(which='major')\n",
    "axes.grid(which='minor', color='#999999', linestyle='-', alpha=0.2)\n",
    "#axes.yaxis.set_major_formatter(OOMFormatter(order = 0, fformat = \"%1.0f\"))\n",
    "# axes.xaxis.set_major_locator(MultipleLocator(200))\n",
    "axes.xaxis.set_minor_locator(AutoMinorLocator(2))\n",
    "axes.set_ylim(bottom=31, top=90)\n",
    "axes.yaxis.set_minor_locator(AutoMinorLocator(5))\n",
    "\n",
    "# axes.yaxis.set_major_locator(MultipleLocator(50))\n",
    "messdaten = axes.errorbar(exposure_sec, sigma_e, fmt=\"o\", ms=2, label=\"Messdaten\")\n",
    "fit_plt, = axes.plot(x_fit, y_fit)\n",
    "axes.legend([messdaten, fit_plt, matplotlib.lines.Line2D([], [], color=\"none\")], [r\"Messdaten\", r\"Anpassung $\\sigma(\\tau) = \\sqrt{a\\tau}+b$, wobei\", r\"$a=\\num{0,2}$ e${^-}^2\\mu \\text{s}^{-1}$ und $b=\\num{34.3}$ e${^-}$ \\cite{123}\"])\n",
    "#\\cite{ramilli_measurements_2017}\n",
    "fig.savefig('noise_fit_half_width.pgf', bbox_inches='tight', pad_inches=0.0)"
   ]
  },
  {
   "cell_type": "code",
   "execution_count": 30,
   "id": "1da6edae",
   "metadata": {
    "scrolled": false
   },
   "outputs": [
    {
     "data": {
      "text/plain": [
       "<matplotlib.legend.Legend at 0x15ca6aac7f0>"
      ]
     },
     "execution_count": 30,
     "metadata": {},
     "output_type": "execute_result"
    },
    {
     "data": {
      "image/png": "[encoded data removed]",
      "text/plain": [
       "<Figure size 466.56x270 with 1 Axes>"
      ]
     },
     "metadata": {
      "needs_background": "light"
     },
     "output_type": "display_data"
    }
   ],
   "source": [
    "%matplotlib inline\n",
    "#grob\n",
    "sigma_e = adu2e(sigma)\n",
    "fig, axs = plt.figure(), plt.gca()\n",
    "#fig.suptitle('MOENCH detector characteristics')\n",
    "fig.set_size_inches(6.48, 3.75)\n",
    "axes = axs\n",
    "axes.xaxis.set_major_formatter(FuncFormatter(lambda x, pos: r\"\\num{%.0e}\" % x if x != 0 else \"0\"))\n",
    "axes.set_xlim(left= -0.4e-4,right=1.05e-3)\n",
    "#axes.set_title('Soft X-Ray Range')\n",
    "axes.set_xlabel(r'Belichtungszeit $\\tau$ in s')\n",
    "#axes.set_xscale('log')\n",
    "axes.set_ylabel(r\"Standardabweichung $\\sigma$ in e$^-$\")\n",
    "axes.grid(which='major')\n",
    "axes.grid(which='minor', color='#999999', linestyle='-', alpha=0.2)\n",
    "#axes.yaxis.set_major_formatter(OOMFormatter(order = 0, fformat = \"%1.0f\"))\n",
    "# axes.xaxis.set_major_locator(MultipleLocator(200))\n",
    "axes.xaxis.set_minor_locator(AutoMinorLocator(2))\n",
    "axes.set_ylim(bottom=31, top=90)\n",
    "axes.yaxis.set_minor_locator(AutoMinorLocator(5))\n",
    "\n",
    "# axes.yaxis.set_major_locator(MultipleLocator(50))\n",
    "messdaten = axes.errorbar(exposure_sec, sigma_e, fmt=\"o\", ms=2, label=\"Messdaten\")\n",
    "fit_plt, = axes.plot(x_fit, y_fit, label = \"Referenzkurve $\\\\sigma(\\\\tau, a, b) = \\\\sqrt{a\\\\tau}+b$\\nvon Ramilli u. a. \\\\cite[Abb. 3]{ramilli-measurements-2017}\")\n",
    "#axes.legend([messdaten, fit_plt, matplotlib.lines.Line2D([], [], color=\"none\")], [r\"Messdaten\", ])\n",
    "#\\cite{ramilli_measurements_2017}\n",
    "handles, labels = fig.gca().get_legend_handles_labels()\n",
    "order = [1,0]\n",
    "axes.legend([handles[idx] for idx in order],[labels[idx] for idx in order])\n"
   ]
  },
  {
   "cell_type": "code",
   "execution_count": 31,
   "id": "770b48c0",
   "metadata": {},
   "outputs": [],
   "source": [
    "fig.savefig('noise_referenz.pgf', bbox_inches='tight', pad_inches=0.0)"
   ]
  },
  {
   "cell_type": "code",
   "execution_count": null,
   "id": "ef9f4b6d",
   "metadata": {},
   "outputs": [],
   "source": [
    " mit\\n $a=\\\\num{0,2}$ e${^-}^2\\\\mu \\\\text{s}^{-1}$ und $b=\\\\num{34.3}$ e${^-}$ "
   ]
  },
  {
   "cell_type": "code",
   "execution_count": 36,
   "id": "0777951c",
   "metadata": {},
   "outputs": [
    {
     "data": {
      "image/png": "[encoded data removed]",
      "text/plain": [
       "<Figure size 466.56x540 with 2 Axes>"
      ]
     },
     "metadata": {
      "needs_background": "light"
     },
     "output_type": "display_data"
    }
   ],
   "source": [
    "%matplotlib inline\n",
    "fig = plt.figure(figsize=(6.48,7.5))\n",
    "axeses = fig.subplots(2,1)\n",
    "\n",
    "axes = axeses[0]\n",
    "axes.set_xlim((0.9e-7,1.1e-3))\n",
    "axes.set_ylim((18, 48))\n",
    "#axes.set_title('Soft X-Ray Range')\n",
    "axes.set_xlabel(r'Belichtungszeit $\\tau$ in s')\n",
    "axes.set_xscale('log')\n",
    "axes.set_ylabel(r\"Standardabweichung $\\sigma$ in ADU\")\n",
    "axes.grid(which='major')\n",
    "axes.grid(which='minor', color='#999999', linestyle='-', alpha=0.2)\n",
    "#axes.xaxis.set_major_formatter(OOMFormatter(order = 0, fformat = \"%1.0f\"))\n",
    "#axes.yaxis.set_major_formatter(OOMFormatter(order = 0, fformat = \"%1.0f\"))\n",
    "# axes.xaxis.set_major_locator(MultipleLocator(200))\n",
    "# axes.xaxis.set_minor_locator(AutoMinorLocator(5))\n",
    "axes.yaxis.set_minor_locator(AutoMinorLocator(5))\n",
    "# axes.yaxis.set_major_locator(MultipleLocator(50))\n",
    "axes.errorbar(exposure_sec, sigma, fmt=\"o\", ms=2)\n",
    "\n",
    "axes.text(-0.1, 1.1, '(a)', transform=axes.transAxes,)\n",
    "\n",
    "\n",
    "axes = axeses[1]\n",
    "sigma_e = adu2e(sigma)\n",
    "#fig.suptitle('MOENCH detector characteristics')\n",
    "axes.xaxis.set_major_formatter(FuncFormatter(lambda x, pos: r\"\\num{%.0e}\" % x if x != 0 else \"0\"))\n",
    "axes.set_xlim(left= -0.4e-4,right=1.05e-3)\n",
    "#axes.set_title('Soft X-Ray Range')\n",
    "axes.set_xlabel(r'Belichtungszeit $\\tau$ in s')\n",
    "#axes.set_xscale('log')\n",
    "axes.set_ylabel(r\"Standardabweichung $\\sigma$ in e$^-$\")\n",
    "axes.grid(which='major')\n",
    "axes.grid(which='minor', color='#999999', linestyle='-', alpha=0.2)\n",
    "#axes.yaxis.set_major_formatter(OOMFormatter(order = 0, fformat = \"%1.0f\"))\n",
    "# axes.xaxis.set_major_locator(MultipleLocator(200))\n",
    "axes.xaxis.set_minor_locator(AutoMinorLocator(2))\n",
    "axes.set_ylim(bottom=31, top=90)\n",
    "axes.yaxis.set_minor_locator(AutoMinorLocator(5))\n",
    "\n",
    "# axes.yaxis.set_major_locator(MultipleLocator(50))\n",
    "messdaten = axes.errorbar(exposure_sec, sigma_e, fmt=\"o\", ms=2, label=\"Messdaten\")\n",
    "fit_plt, = axes.plot(x_fit, y_fit, label = \"Referenzkurve $\\\\sigma(\\\\tau, a, b) = \\\\sqrt{a\\\\tau}+b$\\nvon Ramilli u. a. \\\\cite[Abb. 3]{ramilli-measurements-2017}\")\n",
    "#axes.legend([messdaten, fit_plt, matplotlib.lines.Line2D([], [], color=\"none\")], [r\"Messdaten\", ])\n",
    "#\\cite{ramilli_measurements_2017}\n",
    "handles, labels = fig.gca().get_legend_handles_labels()\n",
    "order = [1,0]\n",
    "axes.legend([handles[idx] for idx in order],[labels[idx] for idx in order])\n",
    "axes.text(-0.1, 1.1, '(b)', transform=axes.transAxes,)\n",
    "\n",
    "fig.tight_layout()\n",
    "\n"
   ]
  },
  {
   "cell_type": "code",
   "execution_count": 37,
   "id": "38c41229",
   "metadata": {},
   "outputs": [],
   "source": [
    "fig.savefig('noise_referenz_two_plots.pgf', bbox_inches='tight', pad_inches=0.0)"
   ]
  },
  {
   "cell_type": "code",
   "execution_count": 21,
   "id": "b3732b39",
   "metadata": {},
   "outputs": [
    {
     "name": "stdout",
     "output_type": "stream",
     "text": [
      "3.5.1\n"
     ]
    }
   ],
   "source": [
    "import matplotlib; print(matplotlib.__version__)"
   ]
  }
 ],
 "metadata": {
  "kernelspec": {
   "display_name": "Python 3 (ipykernel)",
   "language": "python",
   "name": "python3"
  },
  "language_info": {
   "codemirror_mode": {
    "name": "ipython",
    "version": 3
   },
   "file_extension": ".py",
   "mimetype": "text/x-python",
   "name": "python",
   "nbconvert_exporter": "python",
   "pygments_lexer": "ipython3",
   "version": "3.8.12"
  },
  "latex_envs": {
   "LaTeX_envs_menu_present": true,
   "autoclose": true,
   "autocomplete": true,
   "bibliofile": "biblio.bib",
   "cite_by": "apalike",
   "current_citInitial": 1,
   "eqLabelWithNumbers": true,
   "eqNumInitial": 1,
   "hotkeys": {
    "equation": "Ctrl-E",
    "itemize": "Ctrl-I"
   },
   "labels_anchors": false,
   "latex_user_defs": false,
   "report_style_numbering": false,
   "user_envs_cfg": false
  },
  "toc": {
   "base_numbering": 1,
   "nav_menu": {},
   "number_sections": true,
   "sideBar": true,
   "skip_h1_title": false,
   "title_cell": "Table of Contents",
   "title_sidebar": "Contents",
   "toc_cell": false,
   "toc_position": {},
   "toc_section_display": true,
   "toc_window_display": false
  },
  "varInspector": {
   "cols": {
    "lenName": 16,
    "lenType": 16,
    "lenVar": 40
   },
   "kernels_config": {
    "python": {
     "delete_cmd_postfix": "",
     "delete_cmd_prefix": "del ",
     "library": "var_list.py",
     "varRefreshCmd": "print(var_dic_list())"
    },
    "r": {
     "delete_cmd_postfix": ") ",
     "delete_cmd_prefix": "rm(",
     "library": "var_list.r",
     "varRefreshCmd": "cat(var_dic_list()) "
    }
   },
   "types_to_exclude": [
    "module",
    "function",
    "builtin_function_or_method",
    "instance",
    "_Feature"
   ],
   "window_display": false
  }
 },
 "nbformat": 4,
 "nbformat_minor": 5
}
