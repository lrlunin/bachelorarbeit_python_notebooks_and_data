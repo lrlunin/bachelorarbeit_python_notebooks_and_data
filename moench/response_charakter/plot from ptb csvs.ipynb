{
 "cells": [
  {
   "cell_type": "code",
   "execution_count": 1,
   "id": "b4dd956f",
   "metadata": {},
   "outputs": [],
   "source": [
    "from matplotlib import rc\n",
    "%matplotlib notebook\n",
    "from lmfit import Model\n",
    "\n",
    "\n",
    "\n",
    "rc('text', usetex=False)\n",
    "rc(\"font\", family=\"serif\")\n",
    "import numpy as np #notwendige Pakete laden\n",
    "import matplotlib.pyplot as plt\n",
    "import matplotlib\n",
    "import math\n",
    "import matplotlib.ticker as ticker\n",
    "from matplotlib.ticker import (AutoMinorLocator, MultipleLocator, NullLocator)\n",
    "import pandas as pd\n",
    "from PIL import Image\n"
   ]
  },
  {
   "cell_type": "code",
   "execution_count": 2,
   "id": "36f90af4",
   "metadata": {},
   "outputs": [],
   "source": [
    "matplotlib.use(\"pgf\")\n",
    "plt.rcParams.update({\n",
    "    \"font.family\": \"serif\",\n",
    "    \"text.usetex\": True,\n",
    "    \"pgf.rcfonts\": False,\n",
    "    \"figure.figsize\": (6.48, 2.75),\n",
    "    \"pgf.texsystem\": \"pdflatex\",\n",
    "    \"font.size\": 13,\n",
    "    \"text.latex.preamble\" :  r\"\\usepackage{amsmath} \\usepackage[utf8]{inputenc} \\usepackage[T1]{fontenc}\\usepackage[output-decimal-marker={,}]{siunitx} \\sisetup{per-mode=fraction, separate-uncertainty = true, locale = DE} \\usepackage[acronym, toc, section=section, nonumberlist, nopostdot]{glossaries-extra}\",\n",
    "    \"pgf.preamble\": r\"\\usepackage{amsmath} \\usepackage[utf8]{inputenc} \\usepackage[T1]{fontenc}\\usepackage[output-decimal-marker={,}]{siunitx} \\sisetup{per-mode=fraction, separate-uncertainty = true, locale = DE} \\usepackage[acronym, toc, section=section, nonumberlist, nopostdot]{glossaries-extra}\",\n",
    "    #r\"\\usepackage[acronym, toc, section=section, nonumberlist, nopostdot]{glossaries-extra}\"])\n",
    "})"
   ]
  },
  {
   "cell_type": "code",
   "execution_count": 3,
   "id": "e28beb7b",
   "metadata": {},
   "outputs": [],
   "source": [
    "import matplotlib.ticker\n",
    "\n",
    "class OOMFormatter(matplotlib.ticker.ScalarFormatter):\n",
    "    def __init__(self, order=0, fformat=\"%1.1f\", offset=True, mathText=True):\n",
    "        self.oom = order\n",
    "        self.fformat = fformat\n",
    "        matplotlib.ticker.ScalarFormatter.__init__(self,useOffset=offset,useMathText=mathText)\n",
    "    def _set_order_of_magnitude(self):\n",
    "        self.orderOfMagnitude = self.oom\n",
    "    def _set_format(self):\n",
    "        self.format = self.fformat\n",
    "        if self._useMathText:\n",
    "            self.format = '$%s$' % ('\\\\mathdefault{%s}' % self.format)\n",
    "    "
   ]
  },
  {
   "cell_type": "code",
   "execution_count": 4,
   "id": "9aafabd7",
   "metadata": {},
   "outputs": [],
   "source": [
    "exp_data_ev, exp_data_response =  np.loadtxt(\"experimental_data_ptb_calibration.csv\", delimiter=\",\", unpack=True)\n",
    "fit_data_ev, fit_data_response, fit_data_qe =  np.loadtxt(\"experimental_data_ptb_calibration_quantum_efficency.csv\", delimiter=\",\", unpack=True)\n",
    "\n"
   ]
  },
  {
   "cell_type": "code",
   "execution_count": 54,
   "id": "fb23ff40",
   "metadata": {
    "scrolled": false
   },
   "outputs": [
    {
     "data": {
      "image/png": "[encoded data removed]",
      "text/plain": [
       "<Figure size 432x288 with 2 Axes>"
      ]
     },
     "metadata": {
      "needs_background": "light"
     },
     "output_type": "display_data"
    }
   ],
   "source": [
    "%matplotlib inline\n",
    "#grob\n",
    "fig, axs = plt.figure(), plt.gca()\n",
    "#fig.suptitle('MOENCH detector characteristics')\n",
    "plt.subplots_adjust(hspace =0.6)\n",
    "axes = axs\n",
    "axes.set_xlim((650,1400))\n",
    "axes.set_ylim((45, 255))\n",
    "#axes.set_title('Soft X-Ray Range')\n",
    "axes.set_xlabel(r'Photonenenergie $h\\nu$ in eV')\n",
    "axes.set_ylabel(r\"Sensorresponse in ADU pro Photon\", color=\"C1\")\n",
    "axes.grid(which='major')\n",
    "axes.grid(which='minor', color='#999999', linestyle='-', alpha=0.2)\n",
    "axes.xaxis.set_major_formatter(OOMFormatter(order = 0, fformat = \"%1.0f\"))\n",
    "axes.yaxis.set_major_formatter(OOMFormatter(order = 0, fformat = \"%1.0f\"))\n",
    "axes.xaxis.set_major_locator(MultipleLocator(100))\n",
    "axes.xaxis.set_minor_locator(AutoMinorLocator(5))\n",
    "axes.yaxis.set_minor_locator(AutoMinorLocator(5))\n",
    "axes.yaxis.set_major_locator(MultipleLocator(50))\n",
    "\n",
    "axes.axvline(x=706.97, linestyle=\"-\", color='black', linewidth=1, alpha=1)\n",
    "axes.text(x=706.97+15, y=240, s=r'Fe L3')\n",
    "axes.axvline(x=1184.79, linestyle=\"-\",color='black', linewidth=1, alpha=1)\n",
    "axes.text(x=1184.79+15, y=240, s=r'Gd M5')\n",
    "\n",
    "params_string = r\"$r$={r:.3e}$\\frac{{\\mathrm{{ADU}}}}{{\\mathrm{{eV}} \\cdot \\mathrm{{photon}}}}$, $d_{{Si}}$={d_si:.1f}nm, $d_{{Al}}$={d_al:.0f}nm, $d_{{Al_2O_3}}$={d_al2o3:.2f}nm\"\n",
    "#params_string = \"$r$=%.3e, $d_{{Si}}$=%.2e, $d_{{Al}}$=%.2e, $d_{{Al_2O_3}}$=%.3e\"\n",
    "#d_{{Si}}, d_{{Al}},d_{{Al_2O_3}}\n",
    "function_string = \"$f(E, r, \\{d_m\\}) = E\\cdot r\\cdot\\exp[-\\Sigma_{m}\\mu_m(E)d_m]$ with $m \\in \\{Al, Si, Al_2O_3\\}$\"\n",
    "short_function_string = \"$f(E, r, d_{Si}, d_{Al}, d_{Al_2O_3})$\"\n",
    "points = axes.errorbar(exp_data_ev, exp_data_response, fmt='o', ms=2., label='experimental data')\n",
    "xd = np.linspace(30, 1900, 1300)\n",
    "#line, = axes.plot(xd, target_func_model.eval(result.params, x=xd), label='best fit using %s\\n%s' % (function_string, params_string.format(**result.best_values)))\n",
    "line2, = axes.plot(fit_data_ev, fit_data_response)\n",
    "\n",
    "eff_ax = axes.twinx()\n",
    "eff_ax.set_ylim((45, 100))\n",
    "eff_ax.set_ylabel('Quanteneffizienz in \\%', color='red')\n",
    "eff_line, = eff_ax.plot(fit_data_ev, fit_data_qe*100, color='red', label='f(E)=$\\Pi_{m}[T(m,d(m))]$')\n",
    "\n",
    "\n",
    "\n"
   ]
  },
  {
   "cell_type": "code",
   "execution_count": 55,
   "id": "538ee372",
   "metadata": {},
   "outputs": [],
   "source": [
    "fig.savefig('response_700_1400ev.pgf', bbox_inches='tight', pad_inches=0.0)"
   ]
  },
  {
   "cell_type": "code",
   "execution_count": null,
   "id": "924e0e2f",
   "metadata": {},
   "outputs": [],
   "source": []
  },
  {
   "cell_type": "code",
   "execution_count": null,
   "id": "a41042ad",
   "metadata": {},
   "outputs": [],
   "source": []
  }
 ],
 "metadata": {
  "kernelspec": {
   "display_name": "Python 3 (ipykernel)",
   "language": "python",
   "name": "python3"
  },
  "language_info": {
   "codemirror_mode": {
    "name": "ipython",
    "version": 3
   },
   "file_extension": ".py",
   "mimetype": "text/x-python",
   "name": "python",
   "nbconvert_exporter": "python",
   "pygments_lexer": "ipython3",
   "version": "3.8.12"
  },
  "latex_envs": {
   "LaTeX_envs_menu_present": true,
   "autoclose": true,
   "autocomplete": true,
   "bibliofile": "biblio.bib",
   "cite_by": "apalike",
   "current_citInitial": 1,
   "eqLabelWithNumbers": true,
   "eqNumInitial": 1,
   "hotkeys": {
    "equation": "Ctrl-E",
    "itemize": "Ctrl-I"
   },
   "labels_anchors": false,
   "latex_user_defs": false,
   "report_style_numbering": false,
   "user_envs_cfg": false
  },
  "toc": {
   "base_numbering": 1,
   "nav_menu": {},
   "number_sections": true,
   "sideBar": true,
   "skip_h1_title": false,
   "title_cell": "Table of Contents",
   "title_sidebar": "Contents",
   "toc_cell": false,
   "toc_position": {},
   "toc_section_display": true,
   "toc_window_display": false
  },
  "varInspector": {
   "cols": {
    "lenName": 16,
    "lenType": 16,
    "lenVar": 40
   },
   "kernels_config": {
    "python": {
     "delete_cmd_postfix": "",
     "delete_cmd_prefix": "del ",
     "library": "var_list.py",
     "varRefreshCmd": "print(var_dic_list())"
    },
    "r": {
     "delete_cmd_postfix": ") ",
     "delete_cmd_prefix": "rm(",
     "library": "var_list.r",
     "varRefreshCmd": "cat(var_dic_list()) "
    }
   },
   "types_to_exclude": [
    "module",
    "function",
    "builtin_function_or_method",
    "instance",
    "_Feature"
   ],
   "window_display": false
  }
 },
 "nbformat": 4,
 "nbformat_minor": 5
}
