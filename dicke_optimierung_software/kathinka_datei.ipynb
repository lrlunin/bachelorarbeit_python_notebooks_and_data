{
 "cells": [
  {
   "cell_type": "markdown",
   "metadata": {},
   "source": [
    "# Import libraries"
   ]
  },
  {
   "cell_type": "code",
   "execution_count": 1,
   "metadata": {
    "execution": {
     "iopub.execute_input": "2021-10-25T11:54:33.721862Z",
     "iopub.status.busy": "2021-10-25T11:54:33.721325Z",
     "iopub.status.idle": "2021-10-25T11:54:44.438167Z",
     "shell.execute_reply": "2021-10-25T11:54:44.437619Z",
     "shell.execute_reply.started": "2021-10-25T11:54:33.721805Z"
    }
   },
   "outputs": [],
   "source": [
    "import numpy as np\n",
    "import matplotlib.pyplot as plt\n",
    "\n",
    "import udkm1Dsim as ud\n",
    "u = ud.u  # import the pint unit registry from udkm1Dsim"
   ]
  },
  {
   "cell_type": "code",
   "execution_count": 2,
   "metadata": {
    "execution": {
     "iopub.execute_input": "2021-10-25T11:54:44.439023Z",
     "iopub.status.busy": "2021-10-25T11:54:44.438889Z",
     "iopub.status.idle": "2021-10-25T11:54:44.655540Z",
     "shell.execute_reply": "2021-10-25T11:54:44.653708Z",
     "shell.execute_reply.started": "2021-10-25T11:54:44.439007Z"
    }
   },
   "outputs": [
    {
     "ename": "ModuleNotFoundError",
     "evalue": "No module named 'ipympl'",
     "output_type": "error",
     "traceback": [
      "\u001b[1;31m---------------------------------------------------------------------------\u001b[0m",
      "\u001b[1;31mModuleNotFoundError\u001b[0m                       Traceback (most recent call last)",
      "\u001b[1;32m<ipython-input-2-154dd15717fb>\u001b[0m in \u001b[0;36m<module>\u001b[1;34m\u001b[0m\n\u001b[1;32m----> 1\u001b[1;33m \u001b[0mget_ipython\u001b[0m\u001b[1;33m(\u001b[0m\u001b[1;33m)\u001b[0m\u001b[1;33m.\u001b[0m\u001b[0mrun_line_magic\u001b[0m\u001b[1;33m(\u001b[0m\u001b[1;34m'matplotlib'\u001b[0m\u001b[1;33m,\u001b[0m \u001b[1;34m'widget'\u001b[0m\u001b[1;33m)\u001b[0m\u001b[1;33m\u001b[0m\u001b[1;33m\u001b[0m\u001b[0m\n\u001b[0m\u001b[0;32m      2\u001b[0m \u001b[0mu\u001b[0m\u001b[1;33m.\u001b[0m\u001b[0msetup_matplotlib\u001b[0m\u001b[1;33m(\u001b[0m\u001b[1;33m)\u001b[0m  \u001b[1;31m# use matplotlib with pint units\u001b[0m\u001b[1;33m\u001b[0m\u001b[1;33m\u001b[0m\u001b[0m\n",
      "\u001b[1;32m~\\anaconda3\\lib\\site-packages\\IPython\\core\\interactiveshell.py\u001b[0m in \u001b[0;36mrun_line_magic\u001b[1;34m(self, magic_name, line, _stack_depth)\u001b[0m\n\u001b[0;32m   2342\u001b[0m                 \u001b[0mkwargs\u001b[0m\u001b[1;33m[\u001b[0m\u001b[1;34m'local_ns'\u001b[0m\u001b[1;33m]\u001b[0m \u001b[1;33m=\u001b[0m \u001b[0mself\u001b[0m\u001b[1;33m.\u001b[0m\u001b[0mget_local_scope\u001b[0m\u001b[1;33m(\u001b[0m\u001b[0mstack_depth\u001b[0m\u001b[1;33m)\u001b[0m\u001b[1;33m\u001b[0m\u001b[1;33m\u001b[0m\u001b[0m\n\u001b[0;32m   2343\u001b[0m             \u001b[1;32mwith\u001b[0m \u001b[0mself\u001b[0m\u001b[1;33m.\u001b[0m\u001b[0mbuiltin_trap\u001b[0m\u001b[1;33m:\u001b[0m\u001b[1;33m\u001b[0m\u001b[1;33m\u001b[0m\u001b[0m\n\u001b[1;32m-> 2344\u001b[1;33m                 \u001b[0mresult\u001b[0m \u001b[1;33m=\u001b[0m \u001b[0mfn\u001b[0m\u001b[1;33m(\u001b[0m\u001b[1;33m*\u001b[0m\u001b[0margs\u001b[0m\u001b[1;33m,\u001b[0m \u001b[1;33m**\u001b[0m\u001b[0mkwargs\u001b[0m\u001b[1;33m)\u001b[0m\u001b[1;33m\u001b[0m\u001b[1;33m\u001b[0m\u001b[0m\n\u001b[0m\u001b[0;32m   2345\u001b[0m             \u001b[1;32mreturn\u001b[0m \u001b[0mresult\u001b[0m\u001b[1;33m\u001b[0m\u001b[1;33m\u001b[0m\u001b[0m\n\u001b[0;32m   2346\u001b[0m \u001b[1;33m\u001b[0m\u001b[0m\n",
      "\u001b[1;32m~\\anaconda3\\lib\\site-packages\\decorator.py\u001b[0m in \u001b[0;36mfun\u001b[1;34m(*args, **kw)\u001b[0m\n\u001b[0;32m    229\u001b[0m             \u001b[1;32mif\u001b[0m \u001b[1;32mnot\u001b[0m \u001b[0mkwsyntax\u001b[0m\u001b[1;33m:\u001b[0m\u001b[1;33m\u001b[0m\u001b[1;33m\u001b[0m\u001b[0m\n\u001b[0;32m    230\u001b[0m                 \u001b[0margs\u001b[0m\u001b[1;33m,\u001b[0m \u001b[0mkw\u001b[0m \u001b[1;33m=\u001b[0m \u001b[0mfix\u001b[0m\u001b[1;33m(\u001b[0m\u001b[0margs\u001b[0m\u001b[1;33m,\u001b[0m \u001b[0mkw\u001b[0m\u001b[1;33m,\u001b[0m \u001b[0msig\u001b[0m\u001b[1;33m)\u001b[0m\u001b[1;33m\u001b[0m\u001b[1;33m\u001b[0m\u001b[0m\n\u001b[1;32m--> 231\u001b[1;33m             \u001b[1;32mreturn\u001b[0m \u001b[0mcaller\u001b[0m\u001b[1;33m(\u001b[0m\u001b[0mfunc\u001b[0m\u001b[1;33m,\u001b[0m \u001b[1;33m*\u001b[0m\u001b[1;33m(\u001b[0m\u001b[0mextras\u001b[0m \u001b[1;33m+\u001b[0m \u001b[0margs\u001b[0m\u001b[1;33m)\u001b[0m\u001b[1;33m,\u001b[0m \u001b[1;33m**\u001b[0m\u001b[0mkw\u001b[0m\u001b[1;33m)\u001b[0m\u001b[1;33m\u001b[0m\u001b[1;33m\u001b[0m\u001b[0m\n\u001b[0m\u001b[0;32m    232\u001b[0m     \u001b[0mfun\u001b[0m\u001b[1;33m.\u001b[0m\u001b[0m__name__\u001b[0m \u001b[1;33m=\u001b[0m \u001b[0mfunc\u001b[0m\u001b[1;33m.\u001b[0m\u001b[0m__name__\u001b[0m\u001b[1;33m\u001b[0m\u001b[1;33m\u001b[0m\u001b[0m\n\u001b[0;32m    233\u001b[0m     \u001b[0mfun\u001b[0m\u001b[1;33m.\u001b[0m\u001b[0m__doc__\u001b[0m \u001b[1;33m=\u001b[0m \u001b[0mfunc\u001b[0m\u001b[1;33m.\u001b[0m\u001b[0m__doc__\u001b[0m\u001b[1;33m\u001b[0m\u001b[1;33m\u001b[0m\u001b[0m\n",
      "\u001b[1;32m~\\anaconda3\\lib\\site-packages\\IPython\\core\\magic.py\u001b[0m in \u001b[0;36m<lambda>\u001b[1;34m(f, *a, **k)\u001b[0m\n\u001b[0;32m    185\u001b[0m     \u001b[1;31m# but it's overkill for just that one bit of state.\u001b[0m\u001b[1;33m\u001b[0m\u001b[1;33m\u001b[0m\u001b[1;33m\u001b[0m\u001b[0m\n\u001b[0;32m    186\u001b[0m     \u001b[1;32mdef\u001b[0m \u001b[0mmagic_deco\u001b[0m\u001b[1;33m(\u001b[0m\u001b[0marg\u001b[0m\u001b[1;33m)\u001b[0m\u001b[1;33m:\u001b[0m\u001b[1;33m\u001b[0m\u001b[1;33m\u001b[0m\u001b[0m\n\u001b[1;32m--> 187\u001b[1;33m         \u001b[0mcall\u001b[0m \u001b[1;33m=\u001b[0m \u001b[1;32mlambda\u001b[0m \u001b[0mf\u001b[0m\u001b[1;33m,\u001b[0m \u001b[1;33m*\u001b[0m\u001b[0ma\u001b[0m\u001b[1;33m,\u001b[0m \u001b[1;33m**\u001b[0m\u001b[0mk\u001b[0m\u001b[1;33m:\u001b[0m \u001b[0mf\u001b[0m\u001b[1;33m(\u001b[0m\u001b[1;33m*\u001b[0m\u001b[0ma\u001b[0m\u001b[1;33m,\u001b[0m \u001b[1;33m**\u001b[0m\u001b[0mk\u001b[0m\u001b[1;33m)\u001b[0m\u001b[1;33m\u001b[0m\u001b[1;33m\u001b[0m\u001b[0m\n\u001b[0m\u001b[0;32m    188\u001b[0m \u001b[1;33m\u001b[0m\u001b[0m\n\u001b[0;32m    189\u001b[0m         \u001b[1;32mif\u001b[0m \u001b[0mcallable\u001b[0m\u001b[1;33m(\u001b[0m\u001b[0marg\u001b[0m\u001b[1;33m)\u001b[0m\u001b[1;33m:\u001b[0m\u001b[1;33m\u001b[0m\u001b[1;33m\u001b[0m\u001b[0m\n",
      "\u001b[1;32m~\\anaconda3\\lib\\site-packages\\IPython\\core\\magics\\pylab.py\u001b[0m in \u001b[0;36mmatplotlib\u001b[1;34m(self, line)\u001b[0m\n\u001b[0;32m     97\u001b[0m             \u001b[0mprint\u001b[0m\u001b[1;33m(\u001b[0m\u001b[1;34m\"Available matplotlib backends: %s\"\u001b[0m \u001b[1;33m%\u001b[0m \u001b[0mbackends_list\u001b[0m\u001b[1;33m)\u001b[0m\u001b[1;33m\u001b[0m\u001b[1;33m\u001b[0m\u001b[0m\n\u001b[0;32m     98\u001b[0m         \u001b[1;32melse\u001b[0m\u001b[1;33m:\u001b[0m\u001b[1;33m\u001b[0m\u001b[1;33m\u001b[0m\u001b[0m\n\u001b[1;32m---> 99\u001b[1;33m             \u001b[0mgui\u001b[0m\u001b[1;33m,\u001b[0m \u001b[0mbackend\u001b[0m \u001b[1;33m=\u001b[0m \u001b[0mself\u001b[0m\u001b[1;33m.\u001b[0m\u001b[0mshell\u001b[0m\u001b[1;33m.\u001b[0m\u001b[0menable_matplotlib\u001b[0m\u001b[1;33m(\u001b[0m\u001b[0margs\u001b[0m\u001b[1;33m.\u001b[0m\u001b[0mgui\u001b[0m\u001b[1;33m.\u001b[0m\u001b[0mlower\u001b[0m\u001b[1;33m(\u001b[0m\u001b[1;33m)\u001b[0m \u001b[1;32mif\u001b[0m \u001b[0misinstance\u001b[0m\u001b[1;33m(\u001b[0m\u001b[0margs\u001b[0m\u001b[1;33m.\u001b[0m\u001b[0mgui\u001b[0m\u001b[1;33m,\u001b[0m \u001b[0mstr\u001b[0m\u001b[1;33m)\u001b[0m \u001b[1;32melse\u001b[0m \u001b[0margs\u001b[0m\u001b[1;33m.\u001b[0m\u001b[0mgui\u001b[0m\u001b[1;33m)\u001b[0m\u001b[1;33m\u001b[0m\u001b[1;33m\u001b[0m\u001b[0m\n\u001b[0m\u001b[0;32m    100\u001b[0m             \u001b[0mself\u001b[0m\u001b[1;33m.\u001b[0m\u001b[0m_show_matplotlib_backend\u001b[0m\u001b[1;33m(\u001b[0m\u001b[0margs\u001b[0m\u001b[1;33m.\u001b[0m\u001b[0mgui\u001b[0m\u001b[1;33m,\u001b[0m \u001b[0mbackend\u001b[0m\u001b[1;33m)\u001b[0m\u001b[1;33m\u001b[0m\u001b[1;33m\u001b[0m\u001b[0m\n\u001b[0;32m    101\u001b[0m \u001b[1;33m\u001b[0m\u001b[0m\n",
      "\u001b[1;32m~\\anaconda3\\lib\\site-packages\\IPython\\core\\interactiveshell.py\u001b[0m in \u001b[0;36menable_matplotlib\u001b[1;34m(self, gui)\u001b[0m\n\u001b[0;32m   3523\u001b[0m                 \u001b[0mgui\u001b[0m\u001b[1;33m,\u001b[0m \u001b[0mbackend\u001b[0m \u001b[1;33m=\u001b[0m \u001b[0mpt\u001b[0m\u001b[1;33m.\u001b[0m\u001b[0mfind_gui_and_backend\u001b[0m\u001b[1;33m(\u001b[0m\u001b[0mself\u001b[0m\u001b[1;33m.\u001b[0m\u001b[0mpylab_gui_select\u001b[0m\u001b[1;33m)\u001b[0m\u001b[1;33m\u001b[0m\u001b[1;33m\u001b[0m\u001b[0m\n\u001b[0;32m   3524\u001b[0m \u001b[1;33m\u001b[0m\u001b[0m\n\u001b[1;32m-> 3525\u001b[1;33m         \u001b[0mpt\u001b[0m\u001b[1;33m.\u001b[0m\u001b[0mactivate_matplotlib\u001b[0m\u001b[1;33m(\u001b[0m\u001b[0mbackend\u001b[0m\u001b[1;33m)\u001b[0m\u001b[1;33m\u001b[0m\u001b[1;33m\u001b[0m\u001b[0m\n\u001b[0m\u001b[0;32m   3526\u001b[0m         \u001b[0mpt\u001b[0m\u001b[1;33m.\u001b[0m\u001b[0mconfigure_inline_support\u001b[0m\u001b[1;33m(\u001b[0m\u001b[0mself\u001b[0m\u001b[1;33m,\u001b[0m \u001b[0mbackend\u001b[0m\u001b[1;33m)\u001b[0m\u001b[1;33m\u001b[0m\u001b[1;33m\u001b[0m\u001b[0m\n\u001b[0;32m   3527\u001b[0m \u001b[1;33m\u001b[0m\u001b[0m\n",
      "\u001b[1;32m~\\anaconda3\\lib\\site-packages\\IPython\\core\\pylabtools.py\u001b[0m in \u001b[0;36mactivate_matplotlib\u001b[1;34m(backend)\u001b[0m\n\u001b[0;32m    320\u001b[0m     \u001b[1;32mfrom\u001b[0m \u001b[0mmatplotlib\u001b[0m \u001b[1;32mimport\u001b[0m \u001b[0mpyplot\u001b[0m \u001b[1;32mas\u001b[0m \u001b[0mplt\u001b[0m\u001b[1;33m\u001b[0m\u001b[1;33m\u001b[0m\u001b[0m\n\u001b[0;32m    321\u001b[0m \u001b[1;33m\u001b[0m\u001b[0m\n\u001b[1;32m--> 322\u001b[1;33m     \u001b[0mplt\u001b[0m\u001b[1;33m.\u001b[0m\u001b[0mswitch_backend\u001b[0m\u001b[1;33m(\u001b[0m\u001b[0mbackend\u001b[0m\u001b[1;33m)\u001b[0m\u001b[1;33m\u001b[0m\u001b[1;33m\u001b[0m\u001b[0m\n\u001b[0m\u001b[0;32m    323\u001b[0m \u001b[1;33m\u001b[0m\u001b[0m\n\u001b[0;32m    324\u001b[0m     \u001b[0mplt\u001b[0m\u001b[1;33m.\u001b[0m\u001b[0mshow\u001b[0m\u001b[1;33m.\u001b[0m\u001b[0m_needmain\u001b[0m \u001b[1;33m=\u001b[0m \u001b[1;32mFalse\u001b[0m\u001b[1;33m\u001b[0m\u001b[1;33m\u001b[0m\u001b[0m\n",
      "\u001b[1;32m~\\anaconda3\\lib\\site-packages\\matplotlib\\pyplot.py\u001b[0m in \u001b[0;36mswitch_backend\u001b[1;34m(newbackend)\u001b[0m\n\u001b[0;32m    274\u001b[0m     \u001b[0mbackend_name\u001b[0m \u001b[1;33m=\u001b[0m \u001b[0mcbook\u001b[0m\u001b[1;33m.\u001b[0m\u001b[0m_backend_module_name\u001b[0m\u001b[1;33m(\u001b[0m\u001b[0mnewbackend\u001b[0m\u001b[1;33m)\u001b[0m\u001b[1;33m\u001b[0m\u001b[1;33m\u001b[0m\u001b[0m\n\u001b[0;32m    275\u001b[0m \u001b[1;33m\u001b[0m\u001b[0m\n\u001b[1;32m--> 276\u001b[1;33m     \u001b[1;32mclass\u001b[0m \u001b[0mbackend_mod\u001b[0m\u001b[1;33m(\u001b[0m\u001b[0mmatplotlib\u001b[0m\u001b[1;33m.\u001b[0m\u001b[0mbackend_bases\u001b[0m\u001b[1;33m.\u001b[0m\u001b[0m_Backend\u001b[0m\u001b[1;33m)\u001b[0m\u001b[1;33m:\u001b[0m\u001b[1;33m\u001b[0m\u001b[1;33m\u001b[0m\u001b[0m\n\u001b[0m\u001b[0;32m    277\u001b[0m         \u001b[0mlocals\u001b[0m\u001b[1;33m(\u001b[0m\u001b[1;33m)\u001b[0m\u001b[1;33m.\u001b[0m\u001b[0mupdate\u001b[0m\u001b[1;33m(\u001b[0m\u001b[0mvars\u001b[0m\u001b[1;33m(\u001b[0m\u001b[0mimportlib\u001b[0m\u001b[1;33m.\u001b[0m\u001b[0mimport_module\u001b[0m\u001b[1;33m(\u001b[0m\u001b[0mbackend_name\u001b[0m\u001b[1;33m)\u001b[0m\u001b[1;33m)\u001b[0m\u001b[1;33m)\u001b[0m\u001b[1;33m\u001b[0m\u001b[1;33m\u001b[0m\u001b[0m\n\u001b[0;32m    278\u001b[0m \u001b[1;33m\u001b[0m\u001b[0m\n",
      "\u001b[1;32m~\\anaconda3\\lib\\site-packages\\matplotlib\\pyplot.py\u001b[0m in \u001b[0;36mbackend_mod\u001b[1;34m()\u001b[0m\n\u001b[0;32m    275\u001b[0m \u001b[1;33m\u001b[0m\u001b[0m\n\u001b[0;32m    276\u001b[0m     \u001b[1;32mclass\u001b[0m \u001b[0mbackend_mod\u001b[0m\u001b[1;33m(\u001b[0m\u001b[0mmatplotlib\u001b[0m\u001b[1;33m.\u001b[0m\u001b[0mbackend_bases\u001b[0m\u001b[1;33m.\u001b[0m\u001b[0m_Backend\u001b[0m\u001b[1;33m)\u001b[0m\u001b[1;33m:\u001b[0m\u001b[1;33m\u001b[0m\u001b[1;33m\u001b[0m\u001b[0m\n\u001b[1;32m--> 277\u001b[1;33m         \u001b[0mlocals\u001b[0m\u001b[1;33m(\u001b[0m\u001b[1;33m)\u001b[0m\u001b[1;33m.\u001b[0m\u001b[0mupdate\u001b[0m\u001b[1;33m(\u001b[0m\u001b[0mvars\u001b[0m\u001b[1;33m(\u001b[0m\u001b[0mimportlib\u001b[0m\u001b[1;33m.\u001b[0m\u001b[0mimport_module\u001b[0m\u001b[1;33m(\u001b[0m\u001b[0mbackend_name\u001b[0m\u001b[1;33m)\u001b[0m\u001b[1;33m)\u001b[0m\u001b[1;33m)\u001b[0m\u001b[1;33m\u001b[0m\u001b[1;33m\u001b[0m\u001b[0m\n\u001b[0m\u001b[0;32m    278\u001b[0m \u001b[1;33m\u001b[0m\u001b[0m\n\u001b[0;32m    279\u001b[0m     \u001b[0mrequired_framework\u001b[0m \u001b[1;33m=\u001b[0m \u001b[0m_get_required_interactive_framework\u001b[0m\u001b[1;33m(\u001b[0m\u001b[0mbackend_mod\u001b[0m\u001b[1;33m)\u001b[0m\u001b[1;33m\u001b[0m\u001b[1;33m\u001b[0m\u001b[0m\n",
      "\u001b[1;32m~\\anaconda3\\lib\\importlib\\__init__.py\u001b[0m in \u001b[0;36mimport_module\u001b[1;34m(name, package)\u001b[0m\n\u001b[0;32m    125\u001b[0m                 \u001b[1;32mbreak\u001b[0m\u001b[1;33m\u001b[0m\u001b[1;33m\u001b[0m\u001b[0m\n\u001b[0;32m    126\u001b[0m             \u001b[0mlevel\u001b[0m \u001b[1;33m+=\u001b[0m \u001b[1;36m1\u001b[0m\u001b[1;33m\u001b[0m\u001b[1;33m\u001b[0m\u001b[0m\n\u001b[1;32m--> 127\u001b[1;33m     \u001b[1;32mreturn\u001b[0m \u001b[0m_bootstrap\u001b[0m\u001b[1;33m.\u001b[0m\u001b[0m_gcd_import\u001b[0m\u001b[1;33m(\u001b[0m\u001b[0mname\u001b[0m\u001b[1;33m[\u001b[0m\u001b[0mlevel\u001b[0m\u001b[1;33m:\u001b[0m\u001b[1;33m]\u001b[0m\u001b[1;33m,\u001b[0m \u001b[0mpackage\u001b[0m\u001b[1;33m,\u001b[0m \u001b[0mlevel\u001b[0m\u001b[1;33m)\u001b[0m\u001b[1;33m\u001b[0m\u001b[1;33m\u001b[0m\u001b[0m\n\u001b[0m\u001b[0;32m    128\u001b[0m \u001b[1;33m\u001b[0m\u001b[0m\n\u001b[0;32m    129\u001b[0m \u001b[1;33m\u001b[0m\u001b[0m\n",
      "\u001b[1;32m~\\anaconda3\\lib\\importlib\\_bootstrap.py\u001b[0m in \u001b[0;36m_gcd_import\u001b[1;34m(name, package, level)\u001b[0m\n",
      "\u001b[1;32m~\\anaconda3\\lib\\importlib\\_bootstrap.py\u001b[0m in \u001b[0;36m_find_and_load\u001b[1;34m(name, import_)\u001b[0m\n",
      "\u001b[1;32m~\\anaconda3\\lib\\importlib\\_bootstrap.py\u001b[0m in \u001b[0;36m_find_and_load_unlocked\u001b[1;34m(name, import_)\u001b[0m\n",
      "\u001b[1;32m~\\anaconda3\\lib\\importlib\\_bootstrap.py\u001b[0m in \u001b[0;36m_call_with_frames_removed\u001b[1;34m(f, *args, **kwds)\u001b[0m\n",
      "\u001b[1;32m~\\anaconda3\\lib\\importlib\\_bootstrap.py\u001b[0m in \u001b[0;36m_gcd_import\u001b[1;34m(name, package, level)\u001b[0m\n",
      "\u001b[1;32m~\\anaconda3\\lib\\importlib\\_bootstrap.py\u001b[0m in \u001b[0;36m_find_and_load\u001b[1;34m(name, import_)\u001b[0m\n",
      "\u001b[1;32m~\\anaconda3\\lib\\importlib\\_bootstrap.py\u001b[0m in \u001b[0;36m_find_and_load_unlocked\u001b[1;34m(name, import_)\u001b[0m\n",
      "\u001b[1;31mModuleNotFoundError\u001b[0m: No module named 'ipympl'"
     ]
    }
   ],
   "source": [
    "%matplotlib widget\n",
    "u.setup_matplotlib()  # use matplotlib with pint units"
   ]
  },
  {
   "cell_type": "markdown",
   "metadata": {},
   "source": [
    "# Structure"
   ]
  },
  {
   "cell_type": "code",
   "execution_count": 3,
   "metadata": {
    "execution": {
     "iopub.execute_input": "2021-10-25T11:54:44.660217Z",
     "iopub.status.busy": "2021-10-25T11:54:44.659544Z",
     "iopub.status.idle": "2021-10-25T11:54:44.799583Z",
     "shell.execute_reply": "2021-10-25T11:54:44.797905Z",
     "shell.execute_reply.started": "2021-10-25T11:54:44.660130Z"
    }
   },
   "outputs": [],
   "source": [
    "form_folder = '/home/gerlinger/Documents/Projects/udk1Dsim/Formfaktoren/'"
   ]
  },
  {
   "cell_type": "code",
   "execution_count": 4,
   "metadata": {
    "execution": {
     "iopub.execute_input": "2021-10-25T11:54:44.802447Z",
     "iopub.status.busy": "2021-10-25T11:54:44.801896Z",
     "iopub.status.idle": "2021-10-25T11:54:45.464333Z",
     "shell.execute_reply": "2021-10-25T11:54:45.461855Z",
     "shell.execute_reply.started": "2021-10-25T11:54:44.802387Z"
    }
   },
   "outputs": [],
   "source": [
    "Fe = ud.Atom('Fe', mag_amplitude=1, mag_phi=0*u.deg, mag_gamma=90*u.deg,\n",
    "                   atomic_form_factor_path=form_folder + 'fe.nff', magnetic_form_factor_path = form_folder + 'fe.mf')\n",
    "Co = ud.Atom('Co', mag_amplitude=1, mag_phi=0*u.deg, mag_gamma=90*u.deg,\n",
    "                   atomic_form_factor_path=form_folder + 'co.nff', magnetic_form_factor_path = form_folder + 'co.mf')\n",
    "Pt = ud.Atom('Pt', atomic_form_factor_source = 'henke')\n",
    "Si = ud.Atom('Si', atomic_form_factor_source = 'henke')\n",
    "N = ud.Atom('N', atomic_form_factor_source = 'henke')\n",
    "B = ud.Atom('B', atomic_form_factor_source = 'henke')\n",
    "Mg = ud.Atom('Mg', atomic_form_factor_source = 'henke')\n",
    "O = ud.Atom('O', atomic_form_factor_source = 'henke')\n",
    "Ta = ud.Atom('Ta', atomic_form_factor_source = 'henke')"
   ]
  },
  {
   "cell_type": "code",
   "execution_count": 5,
   "metadata": {
    "execution": {
     "iopub.execute_input": "2021-10-25T11:54:45.468680Z",
     "iopub.status.busy": "2021-10-25T11:54:45.468022Z",
     "iopub.status.idle": "2021-10-25T11:54:45.479617Z",
     "shell.execute_reply": "2021-10-25T11:54:45.478382Z",
     "shell.execute_reply.started": "2021-10-25T11:54:45.468609Z"
    }
   },
   "outputs": [],
   "source": [
    "CoFeB = ud.AtomMixed('CoFeB', id='CoFeB', name='CoFeB', mag_amplitude=1, mag_phi=0*u.deg, mag_gamma=90*u.deg)\n",
    "CoFeB.add_atom(Co, .6)\n",
    "CoFeB.add_atom(Fe, .25)\n",
    "CoFeB.add_atom(B, .15)\n",
    "\n",
    "MgO = ud.AtomMixed('MgO', id='MgO', name='MgO')\n",
    "MgO.add_atom(Mg, .5)\n",
    "MgO.add_atom(O, .5)"
   ]
  },
  {
   "cell_type": "code",
   "execution_count": 6,
   "metadata": {
    "execution": {
     "iopub.execute_input": "2021-10-25T11:54:45.481317Z",
     "iopub.status.busy": "2021-10-25T11:54:45.481034Z",
     "iopub.status.idle": "2021-10-25T11:54:45.534416Z",
     "shell.execute_reply": "2021-10-25T11:54:45.533902Z",
     "shell.execute_reply.started": "2021-10-25T11:54:45.481282Z"
    }
   },
   "outputs": [],
   "source": [
    "SiN = ud.AtomMixed('SiN', id='SiN', name='Silicon-Nitride membrane')\n",
    "SiN.add_atom(Si, 3/7)\n",
    "SiN.add_atom(N, 4/7)\n",
    "# print(SiN)"
   ]
  },
  {
   "cell_type": "code",
   "execution_count": 7,
   "metadata": {
    "execution": {
     "iopub.execute_input": "2021-10-25T11:54:45.535095Z",
     "iopub.status.busy": "2021-10-25T11:54:45.534979Z",
     "iopub.status.idle": "2021-10-25T11:54:45.580558Z",
     "shell.execute_reply": "2021-10-25T11:54:45.580107Z",
     "shell.execute_reply.started": "2021-10-25T11:54:45.535080Z"
    }
   },
   "outputs": [],
   "source": [
    "density_Fe = 7874*u.kg/u.m**3\n",
    "prop_Fe = {}\n",
    "prop_Fe['heat_capacity'] = 449*u.J/u.kg/u.K\n",
    "prop_Fe['therm_cond'] = 80*u.W/(u.m *u.K)\n",
    "\n",
    "density_B = 2460*u.kg/u.m**3\n",
    "prop_B = {}\n",
    "prop_B['heat_capacity'] = 1260*u.J/u.kg/u.K\n",
    "prop_B['therm_cond'] = 27*u.W/(u.m *u.K)\n"
   ]
  },
  {
   "cell_type": "code",
   "execution_count": 8,
   "metadata": {
    "execution": {
     "iopub.execute_input": "2021-10-25T11:54:45.581635Z",
     "iopub.status.busy": "2021-10-25T11:54:45.581514Z",
     "iopub.status.idle": "2021-10-25T11:54:45.838835Z",
     "shell.execute_reply": "2021-10-25T11:54:45.838300Z",
     "shell.execute_reply.started": "2021-10-25T11:54:45.581619Z"
    }
   },
   "outputs": [],
   "source": [
    "# source: wikipedia and Lisa\n",
    "density_Co = 21.45e3*u.kg/u.m**3 \n",
    "prop_Co = {}\n",
    "prop_Co['heat_capacity'] = 421*u.J/u.kg/u.K \n",
    "prop_Co['therm_cond'] = 100*u.W/(u.m *u.K) \n",
    "\n",
    "layer_Co = ud.AmorphousLayer('Co', 'Co amorphous', .1*u.nm, density_Co, atom=Co, **prop_Co)\n",
    "layer_Co1 = ud.AmorphousLayer('Co', 'Co amorphous', 1*u.nm, density_Co, atom=Co, **prop_Co)"
   ]
  },
  {
   "cell_type": "code",
   "execution_count": 9,
   "metadata": {
    "execution": {
     "iopub.execute_input": "2021-10-25T11:54:45.839784Z",
     "iopub.status.busy": "2021-10-25T11:54:45.839629Z",
     "iopub.status.idle": "2021-10-25T11:54:45.849651Z",
     "shell.execute_reply": "2021-10-25T11:54:45.848999Z",
     "shell.execute_reply.started": "2021-10-25T11:54:45.839765Z"
    }
   },
   "outputs": [],
   "source": [
    "density_CoFeB = 7800*u.kg/u.m**3 # from Phys. Rev. B 79, 014203\n",
    "prop_CoFeB = {}\n",
    "prop_CoFeB['heat_capacity'] = .6*prop_Co['heat_capacity'] + .25*prop_Fe['heat_capacity'] + .15*prop_B['heat_capacity']\n",
    "prop_CoFeB['therm_cond'] = .6*prop_Co['therm_cond'] + .25*prop_Fe['therm_cond'] + .15*prop_B['therm_cond']\n",
    "\n",
    "layer_CoFeB = ud.AmorphousLayer('CoFeB', 'CoFeB amorphous', .7*u.nm, density_CoFeB, atom=CoFeB, **prop_CoFeB)"
   ]
  },
  {
   "cell_type": "code",
   "execution_count": 10,
   "metadata": {
    "execution": {
     "iopub.execute_input": "2021-10-25T11:54:45.850488Z",
     "iopub.status.busy": "2021-10-25T11:54:45.850338Z",
     "iopub.status.idle": "2021-10-25T11:54:45.921254Z",
     "shell.execute_reply": "2021-10-25T11:54:45.920677Z",
     "shell.execute_reply.started": "2021-10-25T11:54:45.850469Z"
    }
   },
   "outputs": [],
   "source": [
    "density_MgO = (.5 * 1738 + .5 * 1429)*u.kg/u.m**3\n",
    "\n",
    "prop_MgO = {}\n",
    "prop_MgO['heat_capacity'] = (.5 * 1023 + .5 * 920)*u.J/u.kg/u.K \n",
    "prop_MgO['therm_cond'] = (.5 * 160 + .5 * .027)*u.W/(u.m *u.K) \n",
    "\n",
    "layer_MgO = ud.AmorphousLayer('MgO', 'MgO amorphous', 1.5*u.nm, density_MgO, atom=MgO, **prop_MgO)"
   ]
  },
  {
   "cell_type": "code",
   "execution_count": 11,
   "metadata": {
    "execution": {
     "iopub.execute_input": "2021-10-25T11:54:45.922011Z",
     "iopub.status.busy": "2021-10-25T11:54:45.921878Z",
     "iopub.status.idle": "2021-10-25T11:54:45.990866Z",
     "shell.execute_reply": "2021-10-25T11:54:45.990305Z",
     "shell.execute_reply.started": "2021-10-25T11:54:45.921995Z"
    }
   },
   "outputs": [],
   "source": [
    "# source: wikipedia and Lisa\n",
    "density_Pt = 21.45e3*u.kg/u.m**3 \n",
    "prop_Pt = {}\n",
    "prop_Pt['heat_capacity'] = 129.6*u.J/u.kg/u.K \n",
    "prop_Pt['therm_cond'] = 72*u.W/(u.m *u.K) \n",
    "\n",
    "layer_Pt = ud.AmorphousLayer('Pt', 'Pt amorphous', .1*u.nm, density_Pt, atom=Pt, **prop_Pt)\n",
    "layer_Pt1 = ud.AmorphousLayer('Pt', 'Pt amorphous', 1*u.nm, density_Pt, atom=Pt, **prop_Pt)\n",
    "layer_Pt2 = ud.AmorphousLayer('Pt', 'Pt amorphous', 2*u.nm, density_Pt, atom=Pt, **prop_Pt)\n",
    "layer_Pt25 = ud.AmorphousLayer('Pt', 'Pt amorphous', 2.5*u.nm, density_Pt, atom=Pt, **prop_Pt)\n",
    "layer_Pt3 = ud.AmorphousLayer('Pt', 'Pt amorphous', 3*u.nm, density_Pt, atom=Pt, **prop_Pt)\n",
    "layer_Pt4 = ud.AmorphousLayer('Pt', 'Pt amorphous', 4*u.nm, density_Pt, atom=Pt, **prop_Pt)"
   ]
  },
  {
   "cell_type": "code",
   "execution_count": 12,
   "metadata": {
    "execution": {
     "iopub.execute_input": "2021-10-25T11:54:45.991664Z",
     "iopub.status.busy": "2021-10-25T11:54:45.991494Z",
     "iopub.status.idle": "2021-10-25T11:54:46.036210Z",
     "shell.execute_reply": "2021-10-25T11:54:46.035658Z",
     "shell.execute_reply.started": "2021-10-25T11:54:45.991645Z"
    }
   },
   "outputs": [],
   "source": [
    "# source: wikipedia and Lisa\n",
    "density_Ta = 16.65e3*u.kg/u.m**3 \n",
    "\n",
    "layer_Ta = ud.AmorphousLayer('Ta', 'Ta amorphous', 1.9*u.nm, density_Ta, atom=Ta)\n",
    "layer_Ta1 = ud.AmorphousLayer('Ta', 'Ta amorphous', 4*u.nm, density_Ta, atom=Ta)"
   ]
  },
  {
   "cell_type": "code",
   "execution_count": 13,
   "metadata": {
    "execution": {
     "iopub.execute_input": "2021-10-25T11:54:46.036988Z",
     "iopub.status.busy": "2021-10-25T11:54:46.036842Z",
     "iopub.status.idle": "2021-10-25T11:54:46.388576Z",
     "shell.execute_reply": "2021-10-25T11:54:46.388105Z",
     "shell.execute_reply.started": "2021-10-25T11:54:46.036970Z"
    }
   },
   "outputs": [
    {
     "data": {
      "application/vnd.jupyter.widget-view+json": {
       "model_id": "31192549192c400fae48b418cc6d2986",
       "version_major": 2,
       "version_minor": 0
      },
      "text/plain": [
       "Canvas(toolbar=Toolbar(toolitems=[('Home', 'Reset original view', 'home', 'home'), ('Back', 'Back to previous …"
      ]
     },
     "metadata": {},
     "output_type": "display_data"
    }
   ],
   "source": [
    "# create a sub-structure\n",
    "DL = ud.Structure('Co/Pt layer')\n",
    "DL.add_sub_structure(layer_Pt25, 1)\n",
    "DL.add_sub_structure(layer_Co1, 1)\n",
    "DL.add_sub_structure(layer_Ta)\n",
    "\n",
    "DLa = ud.Structure('Ta-Co/Pt layer')\n",
    "DLa.add_sub_structure(layer_Pt3, 1)\n",
    "DLa.add_sub_structure(layer_Co1, 1)\n",
    "DLa.add_sub_structure(layer_Ta)\n",
    "\n",
    "S = ud.Structure('Fe/Pt multilayer')\n",
    "\n",
    "S.add_sub_structure(DL, 12)\n",
    "S.add_sub_structure(layer_Ta1, 1)\n",
    "\n",
    "# plt.ioff()\n",
    "S.visualize(fig_size = (10, 2))\n",
    "# plt.ion()"
   ]
  },
  {
   "cell_type": "code",
   "execution_count": 14,
   "metadata": {
    "execution": {
     "iopub.execute_input": "2021-10-25T11:54:46.389267Z",
     "iopub.status.busy": "2021-10-25T11:54:46.389149Z",
     "iopub.status.idle": "2021-10-25T11:54:46.433739Z",
     "shell.execute_reply": "2021-10-25T11:54:46.433409Z",
     "shell.execute_reply.started": "2021-10-25T11:54:46.389252Z"
    }
   },
   "outputs": [
    {
     "data": {
      "application/vnd.jupyter.widget-view+json": {
       "model_id": "9365a7c66c404472a2302b06fe53343f",
       "version_major": 2,
       "version_minor": 0
      },
      "text/plain": [
       "Canvas(toolbar=Toolbar(toolitems=[('Home', 'Reset original view', 'home', 'home'), ('Back', 'Back to previous …"
      ]
     },
     "metadata": {},
     "output_type": "display_data"
    }
   ],
   "source": [
    "# create a sub-structure\n",
    "DL1 = ud.Structure('MgO/CoFeB/Pt layer')\n",
    "DL1.add_sub_structure(layer_MgO, 1)\n",
    "DL1.add_sub_structure(layer_CoFeB, 1)\n",
    "DL1.add_sub_structure(layer_Pt25, 1)\n",
    "\n",
    "S1 = ud.Structure('MgO/CoFeB/Pt multilayer')\n",
    "S1.add_sub_structure(layer_Pt1, 2)\n",
    "S1.add_sub_structure(DL1, 12)\n",
    "S1.add_sub_structure(layer_Pt1, 4)\n",
    "\n",
    "# plt.ioff()\n",
    "S1.visualize(fig_size = (10, 2))\n",
    "# plt.ion()"
   ]
  },
  {
   "cell_type": "markdown",
   "metadata": {},
   "source": [
    "## Magnetization"
   ]
  },
  {
   "cell_type": "code",
   "execution_count": 15,
   "metadata": {
    "execution": {
     "iopub.execute_input": "2021-10-25T11:54:52.261129Z",
     "iopub.status.busy": "2021-10-25T11:54:52.260384Z",
     "iopub.status.idle": "2021-10-25T11:54:52.269725Z",
     "shell.execute_reply": "2021-10-25T11:54:52.268767Z",
     "shell.execute_reply.started": "2021-10-25T11:54:52.261037Z"
    }
   },
   "outputs": [
    {
     "name": "stdout",
     "output_type": "stream",
     "text": [
      "incoming polarizations set to: sigma\n",
      "analyzer polarizations set to: unpolarized\n",
      "incoming polarizations set to: circ +\n",
      "analyzer polarizations set to: unpolarized\n"
     ]
    }
   ],
   "source": [
    "dyn_mag = ud.XrayDynMag(S, True)\n",
    "dyn_mag.disp_messages = True\n",
    "dyn_mag.save_data = False\n",
    "dyn_mag.set_polarization(1, 0)"
   ]
  },
  {
   "cell_type": "code",
   "execution_count": 16,
   "metadata": {
    "execution": {
     "iopub.execute_input": "2021-10-25T11:54:52.566273Z",
     "iopub.status.busy": "2021-10-25T11:54:52.565960Z",
     "iopub.status.idle": "2021-10-25T11:54:52.573325Z",
     "shell.execute_reply": "2021-10-25T11:54:52.572755Z",
     "shell.execute_reply.started": "2021-10-25T11:54:52.566236Z"
    }
   },
   "outputs": [],
   "source": [
    "dyn_mag.energy = np.linspace(50,100,1000)*u.eV  # set two photon energies\n",
    "# dyn_mag.energy = np.r_[50, 70]*u.eV  # set two photon energies\n",
    "dyn_mag.theta = 90*u.deg  # angle of incidence\n",
    "# dyn_mag.qz = np.r_[0.01:5:0.01]/u.nm  # qz range"
   ]
  },
  {
   "cell_type": "code",
   "execution_count": 17,
   "metadata": {
    "execution": {
     "iopub.execute_input": "2021-10-25T11:54:52.924600Z",
     "iopub.status.busy": "2021-10-25T11:54:52.923640Z",
     "iopub.status.idle": "2021-10-25T11:54:53.280762Z",
     "shell.execute_reply": "2021-10-25T11:54:53.280260Z",
     "shell.execute_reply.started": "2021-10-25T11:54:52.924479Z"
    }
   },
   "outputs": [
    {
     "name": "stdout",
     "output_type": "stream",
     "text": [
      "Calculating _homogeneous_reflectivity_ ...\n",
      "Elapsed time for _homogeneous_reflectivity_: 0.349823 s\n"
     ]
    }
   ],
   "source": [
    "R_hom, R_hom_phi, T_hom, T_hom_phi = dyn_mag.homogeneous_reflectivity()  # this is the actual calculation"
   ]
  },
  {
   "cell_type": "code",
   "execution_count": 18,
   "metadata": {
    "execution": {
     "iopub.execute_input": "2021-10-25T11:54:53.281707Z",
     "iopub.status.busy": "2021-10-25T11:54:53.281587Z",
     "iopub.status.idle": "2021-10-25T11:54:53.320330Z",
     "shell.execute_reply": "2021-10-25T11:54:53.319826Z",
     "shell.execute_reply.started": "2021-10-25T11:54:53.281693Z"
    }
   },
   "outputs": [
    {
     "data": {
      "application/vnd.jupyter.widget-view+json": {
       "model_id": "2b681117f80a4787aaee74cd6507a1cd",
       "version_major": 2,
       "version_minor": 0
      },
      "text/plain": [
       "Canvas(toolbar=Toolbar(toolitems=[('Home', 'Reset original view', 'home', 'home'), ('Back', 'Back to previous …"
      ]
     },
     "metadata": {},
     "output_type": "display_data"
    },
    {
     "data": {
      "text/plain": [
       "<matplotlib.legend.Legend at 0x7f719e76db50>"
      ]
     },
     "execution_count": 18,
     "metadata": {},
     "output_type": "execute_result"
    }
   ],
   "source": [
    "fig, ax = plt.subplots(tight_layout = True)\n",
    "# ax.semilogy(dyn_mag.energy, T_hom, label=r'$T_+$')\n",
    "# ax.semilogy(dyn_mag.energy, T_hom_phi, label=r'$T_-$')\n",
    "ax.plot(dyn_mag.energy, T_hom_phi - T_hom, label=r'$T_-$ - $T_+$')\n",
    "\n",
    "# ax.semilogy(dyn_mag.qz[0, :], R_hom[0, :], label='{}'.format(dyn_mag.energy[0]))\n",
    "# ax.semilogy(dyn_mag.qz[1, :], R_hom[1, :], label='{}'.format(dyn_mag.energy[1]))\n",
    "ax.set_ylabel('Transmission')\n",
    "ax.set_xlabel(r'energy (eV)')\n",
    "ax.legend()"
   ]
  },
  {
   "cell_type": "markdown",
   "metadata": {},
   "source": [
    "## Determine figure of merit"
   ]
  },
  {
   "cell_type": "markdown",
   "metadata": {},
   "source": [
    "### Co/Pt multilayers"
   ]
  },
  {
   "cell_type": "code",
   "execution_count": 19,
   "metadata": {
    "execution": {
     "iopub.execute_input": "2021-10-25T11:54:56.421642Z",
     "iopub.status.busy": "2021-10-25T11:54:56.421022Z",
     "iopub.status.idle": "2021-10-25T11:54:56.602275Z",
     "shell.execute_reply": "2021-10-25T11:54:56.601867Z",
     "shell.execute_reply.started": "2021-10-25T11:54:56.421566Z"
    }
   },
   "outputs": [
    {
     "name": "stdout",
     "output_type": "stream",
     "text": [
      "incoming polarizations set to: sigma\n",
      "analyzer polarizations set to: unpolarized\n",
      "incoming polarizations set to: sigma\n",
      "analyzer polarizations set to: unpolarized\n",
      "incoming polarizations set to: sigma\n",
      "analyzer polarizations set to: unpolarized\n",
      "incoming polarizations set to: sigma\n",
      "analyzer polarizations set to: unpolarized\n",
      "incoming polarizations set to: sigma\n",
      "analyzer polarizations set to: unpolarized\n",
      "incoming polarizations set to: sigma\n",
      "analyzer polarizations set to: unpolarized\n",
      "incoming polarizations set to: sigma\n",
      "analyzer polarizations set to: unpolarized\n",
      "incoming polarizations set to: sigma\n",
      "analyzer polarizations set to: unpolarized\n",
      "incoming polarizations set to: sigma\n",
      "analyzer polarizations set to: unpolarized\n",
      "incoming polarizations set to: sigma\n",
      "analyzer polarizations set to: unpolarized\n",
      "incoming polarizations set to: sigma\n",
      "analyzer polarizations set to: unpolarized\n",
      "incoming polarizations set to: sigma\n",
      "analyzer polarizations set to: unpolarized\n",
      "incoming polarizations set to: sigma\n",
      "analyzer polarizations set to: unpolarized\n",
      "incoming polarizations set to: sigma\n",
      "analyzer polarizations set to: unpolarized\n",
      "incoming polarizations set to: sigma\n",
      "analyzer polarizations set to: unpolarized\n",
      "incoming polarizations set to: sigma\n",
      "analyzer polarizations set to: unpolarized\n",
      "incoming polarizations set to: sigma\n",
      "analyzer polarizations set to: unpolarized\n",
      "incoming polarizations set to: sigma\n",
      "analyzer polarizations set to: unpolarized\n",
      "incoming polarizations set to: sigma\n",
      "analyzer polarizations set to: unpolarized\n",
      "incoming polarizations set to: sigma\n",
      "analyzer polarizations set to: unpolarized\n"
     ]
    }
   ],
   "source": [
    "T = np.zeros(20)\n",
    "P = np.zeros(20)\n",
    "TP = np.zeros(20)\n",
    "\n",
    "for i in range(0, 20):\n",
    "    \n",
    "    S = ud.Structure('Ta/Co/Pt multilayer')\n",
    "    S.add_sub_structure(DL, i)\n",
    "    S.add_sub_structure(layer_Ta1, 1)\n",
    "    \n",
    "    dyn_mag = ud.XrayDynMag(S, True)\n",
    "    dyn_mag.disp_messages = False\n",
    "    dyn_mag.save_data = False\n",
    "    dyn_mag.set_polarization(1, 0)\n",
    "    dyn_mag.energy = [60]*u.eV  # set two photon energies\n",
    "    dyn_mag.theta = 90*u.deg  # angle of incidence\n",
    "    _, _, T_hom, T_hom_phi = dyn_mag.homogeneous_reflectivity()  # this is the actual calculation\n",
    "    T[i] = (T_hom + T_hom_phi) / 2\n",
    "    P[i] = (T_hom - T_hom_phi) / (T_hom + T_hom_phi)\n",
    "    TP[i] = T[i] * P[i]**2"
   ]
  },
  {
   "cell_type": "code",
   "execution_count": 26,
   "metadata": {
    "execution": {
     "iopub.execute_input": "2021-10-25T12:09:12.160865Z",
     "iopub.status.busy": "2021-10-25T12:09:12.160276Z",
     "iopub.status.idle": "2021-10-25T12:09:12.189736Z",
     "shell.execute_reply": "2021-10-25T12:09:12.189338Z",
     "shell.execute_reply.started": "2021-10-25T12:09:12.160798Z"
    }
   },
   "outputs": [
    {
     "data": {
      "application/vnd.jupyter.widget-view+json": {
       "model_id": "b27c31e912184c4d83d4a576feee7a17",
       "version_major": 2,
       "version_minor": 0
      },
      "text/plain": [
       "Canvas(toolbar=Toolbar(toolitems=[('Home', 'Reset original view', 'home', 'home'), ('Back', 'Back to previous …"
      ]
     },
     "metadata": {},
     "output_type": "display_data"
    },
    {
     "data": {
      "text/plain": [
       "Text(0.5, 0, 'Number of repeats of [Co/Pt]')"
      ]
     },
     "execution_count": 26,
     "metadata": {},
     "output_type": "execute_result"
    }
   ],
   "source": [
    "fig, ax = plt.subplots(tight_layout = True)\n",
    "ax.plot(np.arange(0, 20, 1), T, 'o-', label = 'T')\n",
    "# ax.plot(np.arange(0, 20, 1), P, label = 'P')\n",
    "ax.plot(np.arange(0, 20, 1), TP * 1000, 'o-', label = r'T$\\cdot$P$^2 \\cdot 1000$')\n",
    "ax.legend()\n",
    "ax.set_xlabel('Number of repeats of [Co/Pt]')"
   ]
  },
  {
   "cell_type": "code",
   "execution_count": 45,
   "metadata": {
    "execution": {
     "iopub.execute_input": "2021-10-13T15:19:16.845313Z",
     "iopub.status.busy": "2021-10-13T15:19:16.844945Z",
     "iopub.status.idle": "2021-10-13T15:19:16.852112Z",
     "shell.execute_reply": "2021-10-13T15:19:16.850936Z",
     "shell.execute_reply.started": "2021-10-13T15:19:16.845274Z"
    }
   },
   "outputs": [
    {
     "data": {
      "text/plain": [
       "1.8333333333333335"
      ]
     },
     "execution_count": 45,
     "metadata": {},
     "output_type": "execute_result"
    }
   ],
   "source": [
    "0.11/0.06"
   ]
  },
  {
   "cell_type": "markdown",
   "metadata": {},
   "source": [
    "### MgO/CoFeB/Pt multilayer"
   ]
  },
  {
   "cell_type": "code",
   "execution_count": 21,
   "metadata": {
    "execution": {
     "iopub.execute_input": "2021-10-25T11:55:02.165726Z",
     "iopub.status.busy": "2021-10-25T11:55:02.165092Z",
     "iopub.status.idle": "2021-10-25T11:55:02.331676Z",
     "shell.execute_reply": "2021-10-25T11:55:02.331290Z",
     "shell.execute_reply.started": "2021-10-25T11:55:02.165652Z"
    }
   },
   "outputs": [
    {
     "name": "stdout",
     "output_type": "stream",
     "text": [
      "incoming polarizations set to: sigma\n",
      "analyzer polarizations set to: unpolarized\n",
      "incoming polarizations set to: sigma\n",
      "analyzer polarizations set to: unpolarized\n",
      "incoming polarizations set to: sigma\n",
      "analyzer polarizations set to: unpolarized\n",
      "incoming polarizations set to: sigma\n",
      "analyzer polarizations set to: unpolarized\n",
      "incoming polarizations set to: sigma\n",
      "analyzer polarizations set to: unpolarized\n",
      "incoming polarizations set to: sigma\n",
      "analyzer polarizations set to: unpolarized\n",
      "incoming polarizations set to: sigma\n",
      "analyzer polarizations set to: unpolarized\n",
      "incoming polarizations set to: sigma\n",
      "analyzer polarizations set to: unpolarized\n",
      "incoming polarizations set to: sigma\n",
      "analyzer polarizations set to: unpolarized\n",
      "incoming polarizations set to: sigma\n",
      "analyzer polarizations set to: unpolarized\n",
      "incoming polarizations set to: sigma\n",
      "analyzer polarizations set to: unpolarized\n",
      "incoming polarizations set to: sigma\n",
      "analyzer polarizations set to: unpolarized\n",
      "incoming polarizations set to: sigma\n",
      "analyzer polarizations set to: unpolarized\n",
      "incoming polarizations set to: sigma\n",
      "analyzer polarizations set to: unpolarized\n",
      "incoming polarizations set to: sigma\n",
      "analyzer polarizations set to: unpolarized\n",
      "incoming polarizations set to: sigma\n",
      "analyzer polarizations set to: unpolarized\n",
      "incoming polarizations set to: sigma\n",
      "analyzer polarizations set to: unpolarized\n",
      "incoming polarizations set to: sigma\n",
      "analyzer polarizations set to: unpolarized\n",
      "incoming polarizations set to: sigma\n",
      "analyzer polarizations set to: unpolarized\n",
      "incoming polarizations set to: sigma\n",
      "analyzer polarizations set to: unpolarized\n"
     ]
    }
   ],
   "source": [
    "T = np.zeros(20)\n",
    "P = np.zeros(20)\n",
    "TP = np.zeros(20)\n",
    "\n",
    "for i in range(0, 20):\n",
    "    \n",
    "    S = ud.Structure('MgO/CoFeB/Pt multilayer')\n",
    "    S.add_sub_structure(layer_Pt1, 2)\n",
    "    S.add_sub_structure(DL1, i)\n",
    "    S.add_sub_structure(layer_Pt1, 4)\n",
    "    \n",
    "    dyn_mag = ud.XrayDynMag(S, True)\n",
    "    dyn_mag.disp_messages = False\n",
    "    dyn_mag.save_data = False\n",
    "    dyn_mag.set_polarization(1, 0)\n",
    "    dyn_mag.energy = [60]*u.eV  # set two photon energies\n",
    "    dyn_mag.theta = 90*u.deg  # angle of incidence\n",
    "    _, _, T_hom, T_hom_phi = dyn_mag.homogeneous_reflectivity()  # this is the actual calculation\n",
    "    T[i] = (T_hom + T_hom_phi) / 2\n",
    "    P[i] = (T_hom - T_hom_phi) / (T_hom + T_hom_phi)\n",
    "    TP[i] = T[i] * P[i]**2"
   ]
  },
  {
   "cell_type": "code",
   "execution_count": 22,
   "metadata": {
    "execution": {
     "iopub.execute_input": "2021-10-25T11:55:03.795742Z",
     "iopub.status.busy": "2021-10-25T11:55:03.795102Z",
     "iopub.status.idle": "2021-10-25T11:55:03.824678Z",
     "shell.execute_reply": "2021-10-25T11:55:03.824351Z",
     "shell.execute_reply.started": "2021-10-25T11:55:03.795667Z"
    }
   },
   "outputs": [
    {
     "data": {
      "application/vnd.jupyter.widget-view+json": {
       "model_id": "6697659508554d5ba4c55e03d163e771",
       "version_major": 2,
       "version_minor": 0
      },
      "text/plain": [
       "Canvas(toolbar=Toolbar(toolitems=[('Home', 'Reset original view', 'home', 'home'), ('Back', 'Back to previous …"
      ]
     },
     "metadata": {},
     "output_type": "display_data"
    },
    {
     "data": {
      "text/plain": [
       "Text(0.5, 0, 'Number of repeats of [MgO/CoFeB/Pt]')"
      ]
     },
     "execution_count": 22,
     "metadata": {},
     "output_type": "execute_result"
    }
   ],
   "source": [
    "fig, ax = plt.subplots(tight_layout = True)\n",
    "ax.plot(np.arange(0, 20, 1), T, label = 'T')\n",
    "ax.plot(np.arange(0, 20, 1), P, label = 'P')\n",
    "ax.plot(np.arange(0, 20, 1), TP * 5000, label = r'T$\\cdot$P$^2 \\cdot 5000$')\n",
    "ax.legend()\n",
    "ax.set_xlabel('Number of repeats of [MgO/CoFeB/Pt]')"
   ]
  },
  {
   "cell_type": "code",
   "execution_count": 27,
   "metadata": {
    "execution": {
     "iopub.execute_input": "2021-09-29T14:34:10.203199Z",
     "iopub.status.busy": "2021-09-29T14:34:10.203046Z",
     "iopub.status.idle": "2021-09-29T14:34:10.206563Z",
     "shell.execute_reply": "2021-09-29T14:34:10.205945Z",
     "shell.execute_reply.started": "2021-09-29T14:34:10.203183Z"
    }
   },
   "outputs": [
    {
     "data": {
      "text/plain": [
       "1.6e-05"
      ]
     },
     "execution_count": 27,
     "metadata": {},
     "output_type": "execute_result"
    }
   ],
   "source": [
    ".08/5000"
   ]
  },
  {
   "cell_type": "markdown",
   "metadata": {},
   "source": [
    "### Compare Ta/Co/Pt and MgO/CoFeB/Pt"
   ]
  },
  {
   "cell_type": "code",
   "execution_count": 23,
   "metadata": {
    "execution": {
     "iopub.execute_input": "2021-10-25T11:55:07.262872Z",
     "iopub.status.busy": "2021-10-25T11:55:07.262516Z",
     "iopub.status.idle": "2021-10-25T11:55:07.774900Z",
     "shell.execute_reply": "2021-10-25T11:55:07.774365Z",
     "shell.execute_reply.started": "2021-10-25T11:55:07.262832Z"
    }
   },
   "outputs": [
    {
     "name": "stdout",
     "output_type": "stream",
     "text": [
      "incoming polarizations set to: sigma\n",
      "analyzer polarizations set to: unpolarized\n",
      "incoming polarizations set to: sigma\n",
      "analyzer polarizations set to: unpolarized\n",
      "incoming polarizations set to: sigma\n",
      "analyzer polarizations set to: unpolarized\n",
      "incoming polarizations set to: sigma\n",
      "analyzer polarizations set to: unpolarized\n",
      "incoming polarizations set to: sigma\n",
      "analyzer polarizations set to: unpolarized\n",
      "incoming polarizations set to: sigma\n",
      "analyzer polarizations set to: unpolarized\n",
      "incoming polarizations set to: sigma\n",
      "analyzer polarizations set to: unpolarized\n",
      "incoming polarizations set to: sigma\n",
      "analyzer polarizations set to: unpolarized\n",
      "incoming polarizations set to: sigma\n",
      "analyzer polarizations set to: unpolarized\n",
      "incoming polarizations set to: sigma\n",
      "analyzer polarizations set to: unpolarized\n",
      "incoming polarizations set to: sigma\n",
      "analyzer polarizations set to: unpolarized\n",
      "incoming polarizations set to: sigma\n",
      "analyzer polarizations set to: unpolarized\n",
      "incoming polarizations set to: sigma\n",
      "analyzer polarizations set to: unpolarized\n",
      "incoming polarizations set to: sigma\n",
      "analyzer polarizations set to: unpolarized\n",
      "incoming polarizations set to: sigma\n",
      "analyzer polarizations set to: unpolarized\n",
      "incoming polarizations set to: sigma\n",
      "analyzer polarizations set to: unpolarized\n",
      "incoming polarizations set to: sigma\n",
      "analyzer polarizations set to: unpolarized\n",
      "incoming polarizations set to: sigma\n",
      "analyzer polarizations set to: unpolarized\n",
      "incoming polarizations set to: sigma\n",
      "analyzer polarizations set to: unpolarized\n",
      "incoming polarizations set to: sigma\n",
      "analyzer polarizations set to: unpolarized\n",
      "incoming polarizations set to: sigma\n",
      "analyzer polarizations set to: unpolarized\n",
      "incoming polarizations set to: sigma\n",
      "analyzer polarizations set to: unpolarized\n",
      "incoming polarizations set to: sigma\n",
      "analyzer polarizations set to: unpolarized\n",
      "incoming polarizations set to: sigma\n",
      "analyzer polarizations set to: unpolarized\n",
      "incoming polarizations set to: sigma\n",
      "analyzer polarizations set to: unpolarized\n",
      "incoming polarizations set to: sigma\n",
      "analyzer polarizations set to: unpolarized\n",
      "incoming polarizations set to: sigma\n",
      "analyzer polarizations set to: unpolarized\n",
      "incoming polarizations set to: sigma\n",
      "analyzer polarizations set to: unpolarized\n",
      "incoming polarizations set to: sigma\n",
      "analyzer polarizations set to: unpolarized\n",
      "incoming polarizations set to: sigma\n",
      "analyzer polarizations set to: unpolarized\n",
      "incoming polarizations set to: sigma\n",
      "analyzer polarizations set to: unpolarized\n",
      "incoming polarizations set to: sigma\n",
      "analyzer polarizations set to: unpolarized\n",
      "incoming polarizations set to: sigma\n",
      "analyzer polarizations set to: unpolarized\n",
      "incoming polarizations set to: sigma\n",
      "analyzer polarizations set to: unpolarized\n",
      "incoming polarizations set to: sigma\n",
      "analyzer polarizations set to: unpolarized\n",
      "incoming polarizations set to: sigma\n",
      "analyzer polarizations set to: unpolarized\n",
      "incoming polarizations set to: sigma\n",
      "analyzer polarizations set to: unpolarized\n",
      "incoming polarizations set to: sigma\n",
      "analyzer polarizations set to: unpolarized\n",
      "incoming polarizations set to: sigma\n",
      "analyzer polarizations set to: unpolarized\n",
      "incoming polarizations set to: sigma\n",
      "analyzer polarizations set to: unpolarized\n",
      "incoming polarizations set to: sigma\n",
      "analyzer polarizations set to: unpolarized\n",
      "incoming polarizations set to: sigma\n",
      "analyzer polarizations set to: unpolarized\n",
      "incoming polarizations set to: sigma\n",
      "analyzer polarizations set to: unpolarized\n",
      "incoming polarizations set to: sigma\n",
      "analyzer polarizations set to: unpolarized\n",
      "incoming polarizations set to: sigma\n",
      "analyzer polarizations set to: unpolarized\n",
      "incoming polarizations set to: sigma\n",
      "analyzer polarizations set to: unpolarized\n",
      "incoming polarizations set to: sigma\n",
      "analyzer polarizations set to: unpolarized\n",
      "incoming polarizations set to: sigma\n",
      "analyzer polarizations set to: unpolarized\n",
      "incoming polarizations set to: sigma\n",
      "analyzer polarizations set to: unpolarized\n",
      "incoming polarizations set to: sigma\n",
      "analyzer polarizations set to: unpolarized\n",
      "incoming polarizations set to: sigma\n",
      "analyzer polarizations set to: unpolarized\n",
      "incoming polarizations set to: sigma\n",
      "analyzer polarizations set to: unpolarized\n",
      "incoming polarizations set to: sigma\n",
      "analyzer polarizations set to: unpolarized\n",
      "incoming polarizations set to: sigma\n",
      "analyzer polarizations set to: unpolarized\n",
      "incoming polarizations set to: sigma\n",
      "analyzer polarizations set to: unpolarized\n",
      "incoming polarizations set to: sigma\n",
      "analyzer polarizations set to: unpolarized\n",
      "incoming polarizations set to: sigma\n",
      "analyzer polarizations set to: unpolarized\n",
      "incoming polarizations set to: sigma\n",
      "analyzer polarizations set to: unpolarized\n",
      "incoming polarizations set to: sigma\n",
      "analyzer polarizations set to: unpolarized\n",
      "incoming polarizations set to: sigma\n",
      "analyzer polarizations set to: unpolarized\n"
     ]
    }
   ],
   "source": [
    "T = np.zeros(20)\n",
    "P = np.zeros(20)\n",
    "TP = np.zeros(20)\n",
    "\n",
    "for i in range(0, 20):\n",
    "    \n",
    "    S = ud.Structure('Ta/Co/Pt multilayer')\n",
    "    S.add_sub_structure(layer_Pt2, 1)\n",
    "    S.add_sub_structure(DL, i)\n",
    "    S.add_sub_structure(layer_Pt25, 1)\n",
    "    S.add_sub_structure(layer_Ta1, 1)\n",
    "    \n",
    "    dyn_mag = ud.XrayDynMag(S, True)\n",
    "    dyn_mag.disp_messages = False\n",
    "    dyn_mag.save_data = False\n",
    "    dyn_mag.set_polarization(1, 0)\n",
    "    dyn_mag.energy = [60]*u.eV  # set two photon energies\n",
    "    dyn_mag.theta = 90*u.deg  # angle of incidence\n",
    "    _, _, T_hom, T_hom_phi = dyn_mag.homogeneous_reflectivity()  # this is the actual calculation\n",
    "    T[i] = (T_hom + T_hom_phi) / 2\n",
    "    P[i] = (T_hom - T_hom_phi) / (T_hom + T_hom_phi)\n",
    "    TP[i] = T[i] * P[i]**2\n",
    "    \n",
    "Ta = np.zeros(20)\n",
    "Pa = np.zeros(20)\n",
    "TPa = np.zeros(20)\n",
    "\n",
    "for i in range(0, 20):\n",
    "    \n",
    "    S = ud.Structure('Ta/Co/Pt multilayer')\n",
    "    S.add_sub_structure(layer_Pt2, 1)\n",
    "    S.add_sub_structure(DLa, i)\n",
    "    S.add_sub_structure(layer_Pt25, 1)\n",
    "    S.add_sub_structure(layer_Ta1, 1)\n",
    "    \n",
    "    dyn_mag = ud.XrayDynMag(S, True)\n",
    "    dyn_mag.disp_messages = False\n",
    "    dyn_mag.save_data = False\n",
    "    dyn_mag.set_polarization(1, 0)\n",
    "    dyn_mag.energy = [60]*u.eV  # set two photon energies\n",
    "    dyn_mag.theta = 90*u.deg  # angle of incidence\n",
    "    _, _, T_hom, T_hom_phi = dyn_mag.homogeneous_reflectivity()  # this is the actual calculation\n",
    "    Ta[i] = (T_hom + T_hom_phi) / 2\n",
    "    Pa[i] = (T_hom - T_hom_phi) / (T_hom + T_hom_phi)\n",
    "    TPa[i] = Ta[i] * Pa[i]**2\n",
    "    \n",
    "T1 = np.zeros(20)\n",
    "P1 = np.zeros(20)\n",
    "TP1 = np.zeros(20)\n",
    "\n",
    "for i in range(0, 20):\n",
    "    \n",
    "    S = ud.Structure('Ta/Co/Pt multilayer')\n",
    "    S.add_sub_structure(layer_Pt2, 1)\n",
    "    S.add_sub_structure(DL1, i)\n",
    "    S.add_sub_structure(layer_Pt25, 1)\n",
    "    S.add_sub_structure(layer_Ta1, 1)\n",
    "    \n",
    "    dyn_mag = ud.XrayDynMag(S, True)\n",
    "    dyn_mag.disp_messages = False\n",
    "    dyn_mag.save_data = False\n",
    "    dyn_mag.set_polarization(1, 0)\n",
    "    dyn_mag.energy = [60]*u.eV  # set two photon energies\n",
    "    dyn_mag.theta = 90*u.deg  # angle of incidence\n",
    "    _, _, T_hom, T_hom_phi = dyn_mag.homogeneous_reflectivity()  # this is the actual calculation\n",
    "    T1[i] = (T_hom + T_hom_phi) / 2\n",
    "    P1[i] = (T_hom - T_hom_phi) / (T_hom + T_hom_phi)\n",
    "    TP1[i] = T1[i] * P1[i]**2"
   ]
  },
  {
   "cell_type": "code",
   "execution_count": 24,
   "metadata": {
    "execution": {
     "iopub.execute_input": "2021-10-25T11:55:10.110732Z",
     "iopub.status.busy": "2021-10-25T11:55:10.110074Z",
     "iopub.status.idle": "2021-10-25T11:55:10.144811Z",
     "shell.execute_reply": "2021-10-25T11:55:10.144407Z",
     "shell.execute_reply.started": "2021-10-25T11:55:10.110657Z"
    }
   },
   "outputs": [
    {
     "data": {
      "application/vnd.jupyter.widget-view+json": {
       "model_id": "d75fda5081dc42589aaab1344abea8fc",
       "version_major": 2,
       "version_minor": 0
      },
      "text/plain": [
       "Canvas(toolbar=Toolbar(toolitems=[('Home', 'Reset original view', 'home', 'home'), ('Back', 'Back to previous …"
      ]
     },
     "metadata": {},
     "output_type": "display_data"
    },
    {
     "data": {
      "text/plain": [
       "Text(0, 0.5, 'T $\\\\cdot$ P$^2$')"
      ]
     },
     "execution_count": 24,
     "metadata": {},
     "output_type": "execute_result"
    }
   ],
   "source": [
    "fig, ax = plt.subplots(tight_layout = True)\n",
    "ax.plot(TP, 'o-', label = r'[Pt(2.5)/Co(1)/Ta(1.9)]$_{\\mathrm{x}}$')\n",
    "ax.plot(TPa, 'o-', label = r'[Pt(3)/Co(1)/Ta(1.9)]$_{\\mathrm{x}}$')\n",
    "ax.plot(TP1, 'o-', label = r'[Pt(2.5)/Co$_{60}$Fe$_{25}$B$_{15}$/MgO(1.5)]$_{\\mathrm{x}}$')\n",
    "ax.legend()\n",
    "ax.set_xlabel('Number of repeats')\n",
    "ax.set_ylabel(r'T $\\cdot$ P$^2$')"
   ]
  },
  {
   "cell_type": "code",
   "execution_count": null,
   "metadata": {},
   "outputs": [],
   "source": []
  }
 ],
 "metadata": {
  "kernelspec": {
   "display_name": "Python 3",
   "language": "python",
   "name": "python3"
  },
  "language_info": {
   "codemirror_mode": {
    "name": "ipython",
    "version": 3
   },
   "file_extension": ".py",
   "mimetype": "text/x-python",
   "name": "python",
   "nbconvert_exporter": "python",
   "pygments_lexer": "ipython3",
   "version": "3.8.8"
  },
  "latex_envs": {
   "LaTeX_envs_menu_present": true,
   "autoclose": true,
   "autocomplete": true,
   "bibliofile": "biblio.bib",
   "cite_by": "apalike",
   "current_citInitial": 1,
   "eqLabelWithNumbers": true,
   "eqNumInitial": 1,
   "hotkeys": {
    "equation": "Ctrl-E",
    "itemize": "Ctrl-I"
   },
   "labels_anchors": false,
   "latex_user_defs": false,
   "report_style_numbering": false,
   "user_envs_cfg": false
  },
  "toc": {
   "base_numbering": 1,
   "nav_menu": {},
   "number_sections": true,
   "sideBar": true,
   "skip_h1_title": false,
   "title_cell": "Table of Contents",
   "title_sidebar": "Contents",
   "toc_cell": false,
   "toc_position": {},
   "toc_section_display": true,
   "toc_window_display": false
  },
  "varInspector": {
   "cols": {
    "lenName": 16,
    "lenType": 16,
    "lenVar": 40
   },
   "kernels_config": {
    "python": {
     "delete_cmd_postfix": "",
     "delete_cmd_prefix": "del ",
     "library": "var_list.py",
     "varRefreshCmd": "print(var_dic_list())"
    },
    "r": {
     "delete_cmd_postfix": ") ",
     "delete_cmd_prefix": "rm(",
     "library": "var_list.r",
     "varRefreshCmd": "cat(var_dic_list()) "
    }
   },
   "types_to_exclude": [
    "module",
    "function",
    "builtin_function_or_method",
    "instance",
    "_Feature"
   ],
   "window_display": false
  }
 },
 "nbformat": 4,
 "nbformat_minor": 4
}
