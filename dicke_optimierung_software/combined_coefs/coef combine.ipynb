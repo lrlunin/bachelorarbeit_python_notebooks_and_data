{
 "cells": [
  {
   "cell_type": "code",
   "execution_count": 13,
   "id": "18fd1796",
   "metadata": {},
   "outputs": [],
   "source": [
    "import numpy as np\n",
    "import os\n",
    "papers_coef_path = '../from_papers/papers_export/'\n",
    "henke_coef_path = '../henke/'"
   ]
  },
  {
   "cell_type": "markdown",
   "id": "193187bf",
   "metadata": {},
   "source": [
    "# Import papers .mf & .nff"
   ]
  },
  {
   "cell_type": "markdown",
   "id": "6e773ea8",
   "metadata": {},
   "source": [
    "## Fe"
   ]
  },
  {
   "cell_type": "code",
   "execution_count": 10,
   "id": "83cc706f",
   "metadata": {},
   "outputs": [
    {
     "name": "stdout",
     "output_type": "stream",
     "text": [
      "Fe min/max: 680.00/740.00\n"
     ]
    }
   ],
   "source": [
    "e_mf_fe, f1_mf_fe, f2_mf_fe = np.loadtxt(papers_coef_path + 'fe_leonid.mf', unpack=True)\n",
    "e_nff_fe, f1_nff_fe, f2_nff_fe = np.loadtxt(papers_coef_path + 'fe_leonid.nff', unpack=True)\n",
    "\n",
    "\n",
    "bottom_fe_e = np.min([np.min(e_mf_fe), np.min(e_nff_fe)])\n",
    "top_fe_e = np.max([np.max(e_mf_fe), np.max(e_nff_fe)])\n",
    "print('Fe min/max: %.2f/%.2f' % (bottom_fe_e, top_fe_e))"
   ]
  },
  {
   "cell_type": "markdown",
   "id": "3407a93f",
   "metadata": {},
   "source": [
    "## Gd\n"
   ]
  },
  {
   "cell_type": "code",
   "execution_count": 11,
   "id": "b5275438",
   "metadata": {},
   "outputs": [
    {
     "name": "stdout",
     "output_type": "stream",
     "text": [
      "Gd min/max: 1160.00/1225.00\n"
     ]
    }
   ],
   "source": [
    "e_mf_gd, f1_mf_gd, f2_mf_gd = np.loadtxt(papers_coef_path + 'gd_leonid.mf', unpack=True)\n",
    "e_nff_gd, f1_nff_gd, f2_nff_gd = np.loadtxt(papers_coef_path + 'gd_leonid.nff', unpack=True)\n",
    "\n",
    "\n",
    "bottom_gd_e = np.min([np.min(e_mf_gd), np.min(e_nff_gd)])\n",
    "top_gd_e = np.max([np.max(e_mf_gd), np.max(e_nff_gd)])\n",
    "print('Gd min/max: %.2f/%.2f' % (bottom_gd_e, top_gd_e))"
   ]
  },
  {
   "cell_type": "markdown",
   "id": "d427ee2a",
   "metadata": {},
   "source": [
    "# Import henke .mf & .nff"
   ]
  },
  {
   "cell_type": "code",
   "execution_count": 16,
   "id": "2cc48140",
   "metadata": {},
   "outputs": [
    {
     "name": "stdout",
     "output_type": "stream",
     "text": [
      "Henke Fe min/max: 10.00/100000.00\n"
     ]
    }
   ],
   "source": [
    "henke_e_mf_fe, henke_f1_mf_fe, henke_f2_mf_fe = np.loadtxt(henke_coef_path + 'Fe.mf', unpack=True, skiprows=1)\n",
    "henke_e_nff_fe, henke_f1_nff_fe, henke_f2_nff_fe = np.loadtxt(henke_coef_path + 'fe.nff', unpack=True, skiprows=1)\n",
    "\n",
    "\n",
    "henke_bottom_fe_e = np.min([np.min(henke_e_mf_fe), np.min(henke_e_nff_fe)])\n",
    "henke_top_fe_e = np.max([np.max(henke_e_mf_fe), np.max(henke_e_nff_fe)])\n",
    "print('Henke Fe min/max: %.2f/%.2f' % (henke_bottom_fe_e, henke_top_fe_e))"
   ]
  },
  {
   "cell_type": "code",
   "execution_count": 17,
   "id": "09f7166b",
   "metadata": {},
   "outputs": [
    {
     "name": "stdout",
     "output_type": "stream",
     "text": [
      "Henke Gd min/max: 10.00/30000.00\n"
     ]
    }
   ],
   "source": [
    "henke_e_mf_gd, henke_f1_mf_gd, henke_f2_mf_gd = np.loadtxt(henke_coef_path + 'Gd.mf', unpack=True, skiprows=1)\n",
    "henke_e_nff_gd, henke_f1_nff_gd, henke_f2_nff_gd = np.loadtxt(henke_coef_path + 'gd.nff', unpack=True, skiprows=1)\n",
    "\n",
    "\n",
    "henke_bottom_gd_e = np.min([np.min(henke_e_mf_gd), np.min(henke_e_nff_gd)])\n",
    "henke_top_gd_e = np.max([np.max(henke_e_mf_gd), np.max(henke_e_nff_gd)])\n",
    "print('Henke Gd min/max: %.2f/%.2f' % (henke_bottom_gd_e, henke_top_gd_e))"
   ]
  },
  {
   "cell_type": "markdown",
   "id": "6fda7b7d",
   "metadata": {},
   "source": [
    "# Combining coefs .mf & .nff"
   ]
  },
  {
   "cell_type": "markdown",
   "id": "aeebaf2c",
   "metadata": {},
   "source": [
    "## Fe"
   ]
  },
  {
   "cell_type": "code",
   "execution_count": 22,
   "id": "42ca156c",
   "metadata": {},
   "outputs": [],
   "source": [
    "args = np.argwhere(np.logical_and((henke_e_mf_fe > bottom_gd_e),(henke_e_mf_fe < top_gd_e))) # taking fe coefs for Gd energies\n",
    "sub_henke_e_mf_fe, sub_henke_f1_mf_fe, sub_henke_f2_mf_fe = henke_e_mf_fe[args], henke_f1_mf_fe[args], henke_f2_mf_fe[args]\n",
    "\n",
    "args = np.argwhere(np.logical_and((henke_e_nff_fe > bottom_gd_e),(henke_e_nff_fe < top_gd_e))) # taking fe coefs for Gd energies\n",
    "sub_henke_e_nff_fe, sub_henke_f1_nff_fe, sub_henke_f2_nff_fe = henke_e_nff_fe[args], f1_nff_fe[args], henke_f2_nff_fe[args]\n"
   ]
  },
  {
   "cell_type": "code",
   "execution_count": 26,
   "id": "ca0e5090",
   "metadata": {},
   "outputs": [
    {
     "name": "stdout",
     "output_type": "stream",
     "text": [
      "[]\n"
     ]
    },
    {
     "ename": "IndexError",
     "evalue": "index 0 is out of bounds for axis 0 with size 0",
     "output_type": "error",
     "traceback": [
      "\u001b[1;31m---------------------------------------------------------------------------\u001b[0m",
      "\u001b[1;31mIndexError\u001b[0m                                Traceback (most recent call last)",
      "\u001b[1;32m<ipython-input-26-f0952979e86d>\u001b[0m in \u001b[0;36m<module>\u001b[1;34m\u001b[0m\n\u001b[0;32m      1\u001b[0m \u001b[0mprint\u001b[0m\u001b[1;33m(\u001b[0m\u001b[0msub_henke_e_mf_fe\u001b[0m\u001b[1;33m)\u001b[0m\u001b[1;33m\u001b[0m\u001b[1;33m\u001b[0m\u001b[0m\n\u001b[1;32m----> 2\u001b[1;33m \u001b[0mcomb_e_mf\u001b[0m \u001b[1;33m=\u001b[0m \u001b[0mnp\u001b[0m\u001b[1;33m.\u001b[0m\u001b[0mconcatenate\u001b[0m\u001b[1;33m(\u001b[0m\u001b[1;33m[\u001b[0m\u001b[0me_mf_fe\u001b[0m\u001b[1;33m,\u001b[0m \u001b[0msub_henke_e_mf_fe\u001b[0m\u001b[1;33m[\u001b[0m\u001b[1;36m0\u001b[0m\u001b[1;33m]\u001b[0m\u001b[1;33m]\u001b[0m\u001b[1;33m)\u001b[0m\u001b[1;33m\u001b[0m\u001b[1;33m\u001b[0m\u001b[0m\n\u001b[0m\u001b[0;32m      3\u001b[0m \u001b[0mprint\u001b[0m\u001b[1;33m(\u001b[0m\u001b[0mcomb_e_mf\u001b[0m\u001b[1;33m)\u001b[0m\u001b[1;33m\u001b[0m\u001b[1;33m\u001b[0m\u001b[0m\n",
      "\u001b[1;31mIndexError\u001b[0m: index 0 is out of bounds for axis 0 with size 0"
     ]
    }
   ],
   "source": [
    "print(sub_henke_e_mf_fe)\n",
    "comb_e_mf = np.concatenate([e_mf_fe, sub_henke_e_mf_fe[0]])\n",
    "print(comb_e_mf)"
   ]
  }
 ],
 "metadata": {
  "kernelspec": {
   "display_name": "Python 3",
   "language": "python",
   "name": "python3"
  },
  "language_info": {
   "codemirror_mode": {
    "name": "ipython",
    "version": 3
   },
   "file_extension": ".py",
   "mimetype": "text/x-python",
   "name": "python",
   "nbconvert_exporter": "python",
   "pygments_lexer": "ipython3",
   "version": "3.8.8"
  },
  "latex_envs": {
   "LaTeX_envs_menu_present": true,
   "autoclose": true,
   "autocomplete": true,
   "bibliofile": "biblio.bib",
   "cite_by": "apalike",
   "current_citInitial": 1,
   "eqLabelWithNumbers": true,
   "eqNumInitial": 1,
   "hotkeys": {
    "equation": "Ctrl-E",
    "itemize": "Ctrl-I"
   },
   "labels_anchors": false,
   "latex_user_defs": false,
   "report_style_numbering": false,
   "user_envs_cfg": false
  },
  "toc": {
   "base_numbering": 1,
   "nav_menu": {},
   "number_sections": true,
   "sideBar": true,
   "skip_h1_title": false,
   "title_cell": "Table of Contents",
   "title_sidebar": "Contents",
   "toc_cell": false,
   "toc_position": {},
   "toc_section_display": true,
   "toc_window_display": false
  },
  "varInspector": {
   "cols": {
    "lenName": 16,
    "lenType": 16,
    "lenVar": 40
   },
   "kernels_config": {
    "python": {
     "delete_cmd_postfix": "",
     "delete_cmd_prefix": "del ",
     "library": "var_list.py",
     "varRefreshCmd": "print(var_dic_list())"
    },
    "r": {
     "delete_cmd_postfix": ") ",
     "delete_cmd_prefix": "rm(",
     "library": "var_list.r",
     "varRefreshCmd": "cat(var_dic_list()) "
    }
   },
   "types_to_exclude": [
    "module",
    "function",
    "builtin_function_or_method",
    "instance",
    "_Feature"
   ],
   "window_display": false
  }
 },
 "nbformat": 4,
 "nbformat_minor": 5
}
